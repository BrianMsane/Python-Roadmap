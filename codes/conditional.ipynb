{
 "cells": [
  {
   "cell_type": "markdown",
   "id": "af1fbd35",
   "metadata": {},
   "source": [
    "# Conditional Programming\n",
    "\n",
    "Conditional statements in programming are used to control the flow of a program based on certain conditions. These statements allow the execution of different _code blocks_ depending on whether a specified condition evaluates to true or false, providing a fundamental mechanism for decision-making in algorithms.\n",
    "\n",
    "At the heart of every if statement is an **expression** that can be evaluated as True or False and is called a conditional test. These tests often include comparison operators, membership operators, or any expression that evaluates to a Boolean value. Python uses the values True and False to decide whether the code in an if statement should be executed. If a conditional test evaluates to True, Python executes the code following the if statement. If the test evaluates to False, Python ignores the code following the if statement.\n",
    "\n",
    "### Types of Conditional Statements\n",
    "\n",
    "1. if statement\n",
    "2. if...else statement\n",
    "3. if...elif...else statement\n",
    "4. Ternary operator\n",
    "\n",
    "### Indentation\n",
    "\n",
    "In python a block of code is indented to indicate that the statements within that block belong to a specific section. In contrast to many other languages which use `{}` to indicate the block, Python uses a colon to indicate the start of a block and all statements that are indented belong to that block. Typically, the indentation is _4_ `whitespaces` or one `tab` and depending on how you chained the conditions, these spaces might increase.\n",
    "\n",
    "\n"
   ]
  },
  {
   "cell_type": "markdown",
   "id": "276be5da",
   "metadata": {},
   "source": [
    "\n",
    "## 🧩 `if` Statement\n",
    "\n",
    "The `if` statement is used to test a single condition. If the condition evaluates to **True**, the indented block of code runs; otherwise, it’s skipped.\n",
    "\n",
    "### **Syntax**\n",
    "```python\n",
    "if condition:\n",
    "    # code to execute if condition is true\n",
    "```\n",
    "\n",
    "The colon terminates the conditional statement and then creates a new block of code underneath it"
   ]
  },
  {
   "cell_type": "code",
   "execution_count": null,
   "id": "1c2441a9",
   "metadata": {},
   "outputs": [
    {
     "name": "stdout",
     "output_type": "stream",
     "text": [
      "Your name is Brian\n",
      "---------------------------\n",
      "This line is in the if code block\n",
      "We are now out of the code block\n"
     ]
    }
   ],
   "source": [
    "name = 'Brian'\n",
    "\n",
    "if name == 'Brian':\n",
    "    print('Your name is Brian')\n",
    "    print('---------------------------')\n",
    "    print('This line is in the if code block')\n",
    "    print('last one')\n",
    "    \n",
    "print('outside')\n",
    "print('We are now out of the code block')\n"
   ]
  },
  {
   "cell_type": "code",
   "execution_count": 33,
   "id": "4ca8076a",
   "metadata": {},
   "outputs": [
    {
     "name": "stdout",
     "output_type": "stream",
     "text": [
      "you won!\n",
      "Game over\n"
     ]
    }
   ],
   "source": [
    "number = 7\n",
    "guess = 7\n",
    "\n",
    "if guess == number:\n",
    "    print(\"you won!\")\n",
    "\n",
    "print('Game over')\n"
   ]
  },
  {
   "cell_type": "markdown",
   "id": "88079549",
   "metadata": {},
   "source": [
    "## ⚖️  if...else Statement\n",
    "\n",
    "The if...else statement provides an alternative block of code when the condition is False. else does not need a condition because it catches everything that is not catered for by if."
   ]
  },
  {
   "cell_type": "code",
   "execution_count": null,
   "id": "862d5196",
   "metadata": {},
   "outputs": [
    {
     "name": "stdout",
     "output_type": "stream",
     "text": [
      "Your name is Brian\n"
     ]
    }
   ],
   "source": [
    "name = 'Brian'\n",
    "\n",
    "if name == 'Brian':\n",
    "    print('Your name is Brian')\n",
    "else: # otherwise/fallback\n",
    "    print(\"You are not Brian\")"
   ]
  },
  {
   "cell_type": "markdown",
   "id": "4c13bd3c",
   "metadata": {},
   "source": [
    "## 🔁  if...elif...else Statement\n",
    "\n",
    "This structure checks multiple conditions sequentially. Once a condition evaluates to True, its block runs, and the rest are skipped.\n",
    "\n",
    "Note\n",
    "\n",
    "You should be mindful in on how you order you conditions"
   ]
  },
  {
   "cell_type": "code",
   "execution_count": 31,
   "id": "13d296e3",
   "metadata": {},
   "outputs": [
    {
     "name": "stdout",
     "output_type": "stream",
     "text": [
      "Grade: B\n"
     ]
    }
   ],
   "source": [
    "score = 85\n",
    "\n",
    "if score >= 90:\n",
    "    print(\"Grade: A\")\n",
    "elif score >= 75:\n",
    "    print(\"Grade: B\")\n",
    "elif score >= 60:\n",
    "    print(\"Grade: C\")\n",
    "else:\n",
    "    print(\"Grade: F\")\n"
   ]
  },
  {
   "cell_type": "code",
   "execution_count": 34,
   "id": "06b84056",
   "metadata": {},
   "outputs": [
    {
     "name": "stdout",
     "output_type": "stream",
     "text": [
      "x is a positive even number\n"
     ]
    }
   ],
   "source": [
    "# Nested if\n",
    "\n",
    "x = 12\n",
    "\n",
    "if x > 0:\n",
    "    if x % 2 == 0:\n",
    "        print(\"x is a positive even number\")\n",
    "    else:\n",
    "        print(\"x is a positive odd number\")\n",
    "else:\n",
    "    print(\"x is not positive\")\n"
   ]
  },
  {
   "cell_type": "code",
   "execution_count": 35,
   "id": "e859db29",
   "metadata": {},
   "outputs": [
    {
     "name": "stdout",
     "output_type": "stream",
     "text": [
      "Buy brown bread\n"
     ]
    }
   ],
   "source": [
    "bread = 'brown'\n",
    "\n",
    "if bread == 'brown':\n",
    "    print('Buy brown bread')\n",
    "else:\n",
    "    print('Buy what is available')\n",
    "    \n",
    "    if bread == 'yellow':\n",
    "        print('Buy yellow bread')\n",
    "    else:\n",
    "        print('buy white bread')"
   ]
  },
  {
   "cell_type": "markdown",
   "id": "eab36311",
   "metadata": {},
   "source": []
  }
 ],
 "metadata": {
  "kernelspec": {
   "display_name": "python-backend-developer-roadmap (3.12.2)",
   "language": "python",
   "name": "python3"
  },
  "language_info": {
   "codemirror_mode": {
    "name": "ipython",
    "version": 3
   },
   "file_extension": ".py",
   "mimetype": "text/x-python",
   "name": "python",
   "nbconvert_exporter": "python",
   "pygments_lexer": "ipython3",
   "version": "3.12.2"
  }
 },
 "nbformat": 4,
 "nbformat_minor": 5
}
