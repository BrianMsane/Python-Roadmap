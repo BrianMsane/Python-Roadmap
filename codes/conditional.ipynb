{
 "cells": [
  {
   "cell_type": "markdown",
   "id": "af1fbd35",
   "metadata": {},
   "source": [
    "# Conditional Programming ✅❌\n",
    "\n",
    "Conditional statements in programming are used to **control the flow of a program based on certain conditions**. These statements allow the execution of different _code blocks_ depending on whether a specified condition evaluates to _true or false_, providing a fundamental mechanism for decision-making in algorithms.\n",
    "\n",
    "At the heart of every if statement is an **expression** that can be evaluated as True or False and is called a **conditional test**. These tests often include _comparison operators, membership operators, or any expression that evaluates to a Boolean value_. Python uses the values True and False to decide whether the code in an if statement should be executed. If a conditional test evaluates to True, Python executes the code following the if statement. If the test evaluates to False, Python ignores the code following the if statement.\n",
    "\n",
    "### Types of Conditional Statements\n",
    "\n",
    "1. `if` statement\n",
    "2. `if...else` statement\n",
    "3. `if...elif...else` statement\n",
    "4. `Ternary` operator\n",
    "\n",
    "Several different kinds of conditional statements exist, as shown above, and your _choice of which to use depends on the number of conditions you need to test_. Specifically, if you have one condition then `if` statements works for you, two `if ... else` should work and more that that means you are going to use `if...elif...else`. With the latter, you can have as many `elif` conditional tests as you require.\n",
    "\n",
    "### Indentation \n",
    "\n",
    "In python a _block of code is indented to indicate that the statements within that block belong to a specific section_. In contrast to many other languages which use `{}` to indicate the block, Python uses a colon to indicate the start of a block and all statements that are indented belong to that block. Typically, the indentation is _4_ `whitespaces` or one `tab` and depending on how you chained the conditions, these spaces might increase.\n"
   ]
  },
  {
   "cell_type": "markdown",
   "id": "276be5da",
   "metadata": {},
   "source": [
    "\n",
    "## 🧩 `if` Statement\n",
    "\n",
    "The `if` statement is used to test a single condition and a single action. If the condition evaluates to **True**, the indented block of code runs; otherwise, it’s skipped.\n",
    "\n",
    "### Syntax\n",
    "\n",
    "```python\n",
    "if condition:\n",
    "    # code to execute if condition is true\n",
    "```\n",
    "\n",
    "The colon terminates the conditional statement and then creates a new block of code underneath it. You can have as many lines of code as you want in the block following the if statement. If the conditional test evaluates to True, Python executes the code following the if statement. If the test evaluates to False, Python ignores the code following the if statement.\n",
    "\n",
    "For example; let's say you want to determine if a person will be able to vote based on their age. The legal voting age is 18. So, what you have to do in this case is to compare to see if the person's age is `greater or equal` the legal voting age. Note that `>=` is a comparison operator which returns either True of False. \n",
    "\n",
    "```python\n",
    "age = 23\n",
    "if age >= 18:\n",
    "    print('You can vote')\n",
    "```\n",
    "\n",
    "Because 23 is greater than 18, the person is allowed to vote. In other words, because the conditional test `27 >= 18` evaluates to `True`, the statement `print('You can vote')` can be executed.  If age was 16, then the person would not have been allowed to vote meaning that the conditional test would have evaluated to `False`, hence the `print('You can vote')` statement which is within the if block would have not been executed.\n",
    "\n",
    "Note; you can have multiple conditions which are chained together using the logical operators `and`, `or` and `not`. For instance, if you want only males over the age of 18 to vote you can have the condition as follows.\n",
    "\n",
    "```python\n",
    "age = 23\n",
    "gender = 'male'\n",
    "\n",
    "if age >= 18 and gender == 'male':\n",
    "    print(\"You are allowed to vote man 😂\")\n",
    "```\n",
    "\n",
    "Remember: the `and` operator needs both conditions to evalute to `True` in order for it to return `True`. To confirm this you can refer to the basics notebook [here](./basics.ipynb)"
   ]
  },
  {
   "cell_type": "code",
   "execution_count": null,
   "id": "1c2441a9",
   "metadata": {},
   "outputs": [
    {
     "name": "stdout",
     "output_type": "stream",
     "text": [
      "Your name is Brian\n",
      "---------------------------\n",
      "This line is in the if code block\n",
      "We are now out of the code block\n"
     ]
    }
   ],
   "source": [
    "name = 'Brian'\n",
    "\n",
    "if name == 'Brian':\n",
    "    print('Your name is Brian')\n",
    "    print('---------------------------')\n",
    "    print('This line is in the if code block')\n",
    "    print('last one')\n",
    "    \n",
    "print('outside')\n",
    "print('We are now out of the code block')\n"
   ]
  },
  {
   "cell_type": "code",
   "execution_count": 33,
   "id": "4ca8076a",
   "metadata": {},
   "outputs": [
    {
     "name": "stdout",
     "output_type": "stream",
     "text": [
      "you won!\n",
      "Game over\n"
     ]
    }
   ],
   "source": [
    "number = 7\n",
    "guess = 7\n",
    "\n",
    "if guess == number:\n",
    "    print(\"you won!\")\n",
    "\n",
    "print('Game over')\n"
   ]
  },
  {
   "cell_type": "markdown",
   "id": "a2cd73c2",
   "metadata": {},
   "source": [
    "### 🧠Excercise 1\n",
    "\n",
    "You are in a mall and you see a phone that you want to buy but in order for you to buy that phone you need to have enough money in your bank account. Write an if statement to depict this condition; if your bank balance is above or equals to the price of the phone, you can buy it."
   ]
  },
  {
   "cell_type": "code",
   "execution_count": null,
   "id": "fbe23db5",
   "metadata": {},
   "outputs": [],
   "source": [
    "# Your solution here ..."
   ]
  },
  {
   "cell_type": "markdown",
   "id": "fc1d8d3b",
   "metadata": {},
   "source": [
    "### 🧠Exercise 2\n",
    "\n",
    "Let's say you have a garden which has an automatic irrigation system which gets triggered when certain conditions are met. It gets triggered when it is sunny or windy.\n",
    "\n",
    "**Hint**: use logical operators to have multiple conditions tested"
   ]
  },
  {
   "cell_type": "code",
   "execution_count": null,
   "id": "014920d5",
   "metadata": {},
   "outputs": [],
   "source": [
    "# Your solution here ..."
   ]
  },
  {
   "cell_type": "markdown",
   "id": "88079549",
   "metadata": {},
   "source": [
    "## ⚖️  `if...else` Statement\n",
    "\n",
    "The `if...else` statement provides an **alternative block of code when the condition is False**. `else` statement allows you to define an action or set of actions that are executed when the conditional test fails. Note that `else` does not need a condition because it _catches everything that is not catered for by `if`_.\n",
    "\n",
    "## Syntax\n",
    "```python\n",
    "if condition:\n",
    "    # if block that gets executed when the condition evaluates to True\n",
    "else:\n",
    "    # else block that gets executed if the condition is False\n",
    "```\n",
    "\n",
    "Going back to our voting example we know that if a person is less than 18 years of age they are not allowed to vote, we can have the as it follows.\n",
    "\n",
    "```python\n",
    "age = 12\n",
    "gender = 'male'\n",
    "\n",
    "if age >= 18 and gender == 'male':\n",
    "    print('You are allowed to vote ✅')\n",
    "else:\n",
    "    print('You are not allowed to vote 🚫')\n",
    "```\n",
    "\n",
    "We use the `if ... else` conditional statement when you have one condition to test but we have two actions. Once action is executed if the condition is True or is met and the other is executed if the condition is not met or `False`."
   ]
  },
  {
   "cell_type": "code",
   "execution_count": null,
   "id": "862d5196",
   "metadata": {},
   "outputs": [
    {
     "name": "stdout",
     "output_type": "stream",
     "text": [
      "Your name is Brian\n"
     ]
    }
   ],
   "source": [
    "name = 'Brian'\n",
    "\n",
    "if name == 'Brian':\n",
    "    print('Your name is Brian')\n",
    "else: # otherwise/fallback\n",
    "    print(\"You are not Brian\")"
   ]
  },
  {
   "cell_type": "markdown",
   "id": "cd1c7d74",
   "metadata": {},
   "source": [
    "### 🧠Exercise 3\n",
    "\n",
    "The passing mark in your school is 70 percent and you want to create an end-of-term report for students by simply grading then into pass or fail. Write an `if...else` statement representing this."
   ]
  },
  {
   "cell_type": "code",
   "execution_count": null,
   "id": "d4bffbd6",
   "metadata": {},
   "outputs": [],
   "source": [
    "# Your solution here ..."
   ]
  },
  {
   "cell_type": "markdown",
   "id": "4c13bd3c",
   "metadata": {},
   "source": [
    "## 🔁  `if...elif...else` Statement\n",
    "\n",
    "This structure checks multiple conditions sequentially. Once a condition evaluates to True, its block runs, and the rest are skipped. Many real-world situations involve more than two possible so this is what you should master.\n",
    "\n",
    "### Syntax\n",
    "```python\n",
    "if condition1:\n",
    "    # block of it\n",
    "elif condition2:\n",
    "    # block of elif 1\n",
    "elif condition3:\n",
    "    # block of elif 2\n",
    "else:\n",
    "    # otherwise block\n",
    "```\n",
    "\n",
    "For example; say we are selling tickets for a conference and we have different prices depending on the profession or experience of an applicant. Admission is free for students, for academia the price is $100 and for industry experts, the prices is $120.\n",
    "\n",
    "```python\n",
    "level = 'Student'\n",
    "if level == 'Student':\n",
    "    print('Your application fee has been waived!')\n",
    "elif level == 'Academia':\n",
    "    print('You are supposed to pay $100')\n",
    "elif level == 'Industry':\n",
    "    print('You have to pay $120')\n",
    "else:\n",
    "    print('This conference is only for Students, Industry, and Academia experts.')\n",
    "```\n",
    "\n",
    "**Note**; \n",
    "- `elif` is the same as **else if** which is used in programming languages like C++ and Java\n",
    "- You can have as many `elif` block as you require\n",
    "- You should be mindful in on how you order you conditions"
   ]
  },
  {
   "cell_type": "code",
   "execution_count": 31,
   "id": "13d296e3",
   "metadata": {},
   "outputs": [
    {
     "name": "stdout",
     "output_type": "stream",
     "text": [
      "Grade: B\n"
     ]
    }
   ],
   "source": [
    "score = 85\n",
    "\n",
    "if score >= 90:\n",
    "    print(\"Grade: A\")\n",
    "elif score >= 75:\n",
    "    print(\"Grade: B\")\n",
    "elif score >= 60:\n",
    "    print(\"Grade: C\")\n",
    "else:\n",
    "    print(\"Grade: F\")\n"
   ]
  },
  {
   "cell_type": "code",
   "execution_count": 34,
   "id": "06b84056",
   "metadata": {},
   "outputs": [
    {
     "name": "stdout",
     "output_type": "stream",
     "text": [
      "x is a positive even number\n"
     ]
    }
   ],
   "source": [
    "# Nested if\n",
    "\n",
    "x = 12\n",
    "\n",
    "if x > 0:\n",
    "    if x % 2 == 0:\n",
    "        print(\"x is a positive even number\")\n",
    "    else:\n",
    "        print(\"x is a positive odd number\")\n",
    "else:\n",
    "    print(\"x is not positive\")\n"
   ]
  },
  {
   "cell_type": "code",
   "execution_count": 35,
   "id": "e859db29",
   "metadata": {},
   "outputs": [
    {
     "name": "stdout",
     "output_type": "stream",
     "text": [
      "Buy brown bread\n"
     ]
    }
   ],
   "source": [
    "bread = 'brown'\n",
    "\n",
    "if bread == 'brown':\n",
    "    print('Buy brown bread')\n",
    "else:\n",
    "    print('Buy what is available')\n",
    "    \n",
    "    if bread == 'yellow':\n",
    "        print('Buy yellow bread')\n",
    "    else:\n",
    "        print('buy white bread')"
   ]
  },
  {
   "cell_type": "markdown",
   "id": "6a856cbb",
   "metadata": {},
   "source": [
    "### 🧠 Exercise 4\n",
    "\n",
    "Create a Python program that determines a person’s **health category** based on their **age**, **BMI (Body Mass Index)**, and **exercise frequency**.\n",
    "\n",
    "\n",
    "**Requirements**\n",
    "\n",
    "Given these age groups; children are considered healthy, while the others need to be assessed for health:  \n",
    "- `< 13` → Child  \n",
    "- `13–19` → Teen  \n",
    "- `20–59` → Adult  \n",
    "- `>= 60` → Senior  \n",
    "\n",
    "If the **exercise frequency** (0–30 per month) is very low — below **10** — check their **BMI**:\n",
    "- If **BMI > 25**, the person might be **unhealthy**.\n",
    "- If **BMI <= 25**, they are likely **healthy**.\n",
    "\n",
    "Use:\n",
    "- `if..elif..else` statements for the age classification.\n",
    "- **Logical operators** (`and`, `or`) to assess combined conditions like low exercise and high BMI.\n",
    "- **Nested if** statements inside each age category to evaluate health more precisely.\n",
    "\n"
   ]
  },
  {
   "cell_type": "code",
   "execution_count": null,
   "id": "ad9be656",
   "metadata": {},
   "outputs": [],
   "source": [
    "# Your solution here ..."
   ]
  },
  {
   "cell_type": "markdown",
   "id": "b7653656",
   "metadata": {},
   "source": [
    "### Solution\n",
    "\n",
    "The `input()` method is used for getting input from the user"
   ]
  },
  {
   "cell_type": "code",
   "execution_count": 38,
   "id": "d3a75a2e",
   "metadata": {},
   "outputs": [
    {
     "name": "stdout",
     "output_type": "stream",
     "text": [
      "Status: Healthy adult (low exercise but good BMI)\n"
     ]
    }
   ],
   "source": [
    "age = int(input(\"Enter age: \"))\n",
    "bmi = float(input(\"Enter BMI: \"))\n",
    "exercise = int(input(\"Enter monthly exercise frequency (0–30): \"))\n",
    "\n",
    "if age < 13:\n",
    "    print(\"By default children are healthy\")\n",
    "elif age <= 19:\n",
    "    if exercise < 10:\n",
    "        if bmi > 25:\n",
    "            print(\"Status: Unhealthy teen (low exercise & high BMI)\")\n",
    "        else:\n",
    "            print(\"Status: Healthy teen (low exercise but normal BMI)\")\n",
    "    else:\n",
    "        print(\"Status: Active and healthy teen\")\n",
    "\n",
    "elif age < 60:\n",
    "    \n",
    "    if exercise < 20:\n",
    "        if bmi > 25:\n",
    "            print(\"Status: Unhealthy adult (low exercise & high BMI)\")\n",
    "        else:\n",
    "            print(\"Status: Healthy adult (low exercise but good BMI)\")\n",
    "    else:\n",
    "        print(\"Status: Active and healthy adult\")\n",
    "else:\n",
    "    if exercise < 10 or bmi > 25:\n",
    "        print(\"Status: Needs medical attention (low activity or high BMI)\")\n",
    "    else:\n",
    "        print(\"Status: Healthy and active senior\")\n"
   ]
  }
 ],
 "metadata": {
  "kernelspec": {
   "display_name": "python-backend-developer-roadmap (3.12.2)",
   "language": "python",
   "name": "python3"
  },
  "language_info": {
   "codemirror_mode": {
    "name": "ipython",
    "version": 3
   },
   "file_extension": ".py",
   "mimetype": "text/x-python",
   "name": "python",
   "nbconvert_exporter": "python",
   "pygments_lexer": "ipython3",
   "version": "3.12.2"
  }
 },
 "nbformat": 4,
 "nbformat_minor": 5
}
