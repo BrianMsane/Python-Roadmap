{
 "cells": [
  {
   "cell_type": "code",
   "execution_count": null,
   "id": "cba36ec0",
   "metadata": {},
   "outputs": [],
   "source": []
  },
  {
   "cell_type": "markdown",
   "id": "c8f72e38",
   "metadata": {},
   "source": [
    "# 📚 Python Dictionaries\n",
    "\n",
    "A dictionary is a built-in Python data type that stores data in key-value pairs. It is often compared to a real-world dictionary or a lookup table.\n",
    "\n",
    "### Key Characteristics:\n",
    "- Unordered (as of Python 3.7+): Dictionaries maintain the insertion order of items.\n",
    "- Mutable: You can add, remove, and modify items after creation.\n",
    "- Indexed by Keys: You access values using their unique keys, not numerical indices (like in lists).\n",
    "- Unique Keys: Every key in a dictionary must be unique. If you try to add an existing key, the old value will be overwritten.\n",
    "- Immutable Keys: Keys must be immutable types (strings, numbers, tuples). Values can be anything (lists, other dictionaries, functions, etc.).\n",
    "\n",
    "### Analogy 😂\n",
    "Think of a phone book, the Name is the Key and the Phone Number is the Value.\n",
    "\n",
    "### Syntax\n",
    "\n",
    "- Arranged in `key-value pairs`\n",
    "- The pairs are separated by `comma`\n",
    "- What comes first are the `keys` and then we have a `colon`. After the colon we have the `value`"
   ]
  },
  {
   "cell_type": "code",
   "execution_count": null,
   "id": "8943afea",
   "metadata": {},
   "outputs": [
    {
     "name": "stdout",
     "output_type": "stream",
     "text": [
      "{'surname': 'Msane', 'age': 100, 'gpa': 1.0}\n"
     ]
    }
   ],
   "source": [
    "student = {\n",
    "    \"name\": \"Thandokuhle\",\n",
    "    \"surname\": \"Msane\",\n",
    "    \"age\": 100,\n",
    "    \"gpa\": 1.0\n",
    "}\n",
    "\n",
    "del student['name'] # key names are always strings and the values can be of any data type\n",
    "print(student)"
   ]
  },
  {
   "cell_type": "code",
   "execution_count": null,
   "id": "6db24c49",
   "metadata": {},
   "outputs": [
    {
     "name": "stdout",
     "output_type": "stream",
     "text": [
      "{'name': 'Alice', 'age': 21, 'major': 'Computer Science', 'gpa': 3.8, 'courses': ['Python', 'Algorithms', 'Databases']}\n",
      "Student Profile:\n",
      "{'age': 21,\n",
      " 'courses': ['Python', 'Algorithms', 'Databases'],\n",
      " 'gpa': 3.8,\n",
      " 'major': 'Computer Science',\n",
      " 'name': 'Alice'}\n",
      "Another Dict:\n",
      "{'a': 1, 'b': 2, 'c': 3}\n"
     ]
    }
   ],
   "source": [
    "from pprint import pprint\n",
    "\n",
    "empty_dict = {} # empty dictionary\n",
    "\n",
    "# populated dictionary\n",
    "student_profile = {\n",
    "    \"name\": \"Alice\",\n",
    "    \"age\": 21,\n",
    "    \"major\": \"Computer Science\",\n",
    "    \"gpa\": 3.8,\n",
    "    \"courses\": [\"Python\", \"Algorithms\", \"Databases\"] # Values can be lists\n",
    "}\n",
    "\n",
    "#  using the dict() constructor\n",
    "another_dict = dict(a=1, b=2, c=3)\n",
    "\n",
    "print(\"Student Profile:\") \n",
    "pprint(student_profile)\n",
    "print(\"Another Dict:\")\n",
    "pprint(another_dict)"
   ]
  },
  {
   "cell_type": "code",
   "execution_count": null,
   "id": "c4c28c00",
   "metadata": {},
   "outputs": [],
   "source": [
    "student = {\n",
    "    \"name\": \"Thandokuhle\",\n",
    "    \"surname\": \"Msane\",\n",
    "    \"age\": 100,\n",
    "    \"gpa\": 1.0\n",
    "}\n",
    "\n",
    "\n",
    "student = dict(\n",
    "    name=\"Thadokuhle\",\n",
    "    surname=\"Msane\",\n",
    "    age=100,\n",
    "    gpa=1.0\n",
    ")"
   ]
  },
  {
   "cell_type": "markdown",
   "id": "d6842a78",
   "metadata": {},
   "source": [
    "## Accessing Values\n",
    "\n",
    "Dictionaries are indexed by their keys. There are two crucial ways to retrieve a value, and understanding the difference is key to avoiding program crashes.\n",
    "\n",
    "- **Bracket Access** `[]`. This method is fast but risky as it raises an error if the KeyError is not found in the dictionary and halts the program.\n",
    "- **The `get()` method**. This is safe and recommended; If the key does not exist, `get()` returns `None` (or a default value you specify) instead of throwing an error.\n"
   ]
  },
  {
   "cell_type": "code",
   "execution_count": null,
   "id": "15f7d962",
   "metadata": {},
   "outputs": [],
   "source": [
    "print(f\"Name: {student_profile['name']}\")\n",
    "print(f\"Age (using .get()): {student_profile.get('age')}\")\n",
    "print(f\"School (safe access): {student_profile.get('school', 'Not Specified')}\")\n"
   ]
  },
  {
   "cell_type": "markdown",
   "id": "49eb5f03",
   "metadata": {},
   "source": [
    "## Modifying \n",
    "\n",
    "Since dictionaries are mutable, you can change them during program execution.\n",
    "\n",
    "### Adding Items\n",
    "\n",
    "- Adding and Updating Items. If the key already exists, its value is overwritten (updated). If the key is new, it is added.\n",
    "- Merging Dictionaries with .update(). The `update()` method merges a second dictionary into the first. It overwrites values for existing keys and adds new keys.\n",
    "\n",
    "### Removing Items\n",
    "\n",
    "| Method         | Purpose                                      | Returns                                 |\n",
    "|----------------|----------------------------------------------|------------------------------------------|\n",
    "| `del dict[key]`| Deletes a specific item by key               | Nothing                                   |\n",
    "| `dict.pop(key)`| Deletes a specific item by key               | The value of the removed item             |\n",
    "| `dict.popitem()`| Deletes the last inserted item (Python 3.7+) | The removed key-value pair as a tuple     |\n",
    "| `dict.clear()` | Empties the entire dictionary                | Nothing                                   |\n",
    "\n",
    "\n",
    "### View Objects: \n",
    "\n",
    "- keys()\n",
    "- values()\n",
    "- items()\n",
    "\n",
    "These methods return dynamic \"views\" of the dictionary's content. If the original dictionary changes, the view updates automatically. They are typically used for iteration.\n",
    "\n"
   ]
  },
  {
   "cell_type": "code",
   "execution_count": 7,
   "id": "e2bb3cf9",
   "metadata": {},
   "outputs": [
    {
     "data": {
      "text/plain": [
       "dict_items([('name', 'Alice'), ('age', 21), ('major', 'Computer Science'), ('gpa', 3.8), ('courses', ['Python', 'Algorithms', 'Databases'])])"
      ]
     },
     "execution_count": 7,
     "metadata": {},
     "output_type": "execute_result"
    }
   ],
   "source": [
    "student_profile.keys()\n",
    "student_profile.values()\n",
    "student_profile.items()"
   ]
  }
 ],
 "metadata": {
  "kernelspec": {
   "display_name": "python-backend-developer-roadmap (3.12.2)",
   "language": "python",
   "name": "python3"
  },
  "language_info": {
   "codemirror_mode": {
    "name": "ipython",
    "version": 3
   },
   "file_extension": ".py",
   "mimetype": "text/x-python",
   "name": "python",
   "nbconvert_exporter": "python",
   "pygments_lexer": "ipython3",
   "version": "3.12.2"
  }
 },
 "nbformat": 4,
 "nbformat_minor": 5
}
