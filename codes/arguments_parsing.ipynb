{
 "cells": [
  {
   "cell_type": "markdown",
   "id": "d5da240c",
   "metadata": {},
   "source": [
    "# Arugments Parsing\n",
    "\n",
    "In Python, the ability to pass arguments to scripts is a crucial skill. It allows for **greater flexibility** and **reusability of code**. Whether you are writing a simple utility script or a complex application, passing arguments enables you to customize the behavior of your program based on the input provided. This is very helpful in automation.\n",
    "\n",
    "Arguments are values passed to a Python script when it is executed. They can be used to provide input data, configure the behavior of the script, or specify options. For example, when training a machine learning model you could utilize this behaviour to provide things like test_size, model name, input file name, and so on.\n",
    "\n",
    "\n",
    "### Types of arguments\n",
    "\n",
    "- `Positional arguments`: These are arguments that are specified by their position in the command line. They are similar to positional arugments in Python functions and they **should** be passed. In our machine learning example, you could make the input file path to be a positional argument; it is mandatory to provide the input data for training.\n",
    "- `Optional arguments`: These are arguments that are not required and can be specified with a flag or an option. For example, in the command python script.py --verbose, --verbose is an optional argument that might enable verbose output."
   ]
  },
  {
   "cell_type": "markdown",
   "id": "0c72e9ed",
   "metadata": {},
   "source": [
    "## Using `argparse` module\n",
    "\n",
    "The argparse module provides a more powerful and flexible way to handle _command-line arguments_. It allows you to _define the arguments your script expects_, _provide help messages_, and _handle argument parsing_ in a more organized manner.\n",
    "\n",
    "The argparse module automatically generates help messages for the arguments you define. You can customize the help messages by providing a clear and concise description in the add_argument method. You can also add a global help message when creating the ArgumentParser object"
   ]
  }
 ],
 "metadata": {
  "kernelspec": {
   "display_name": "python-backend-developer-roadmap (3.12.2)",
   "language": "python",
   "name": "python3"
  },
  "language_info": {
   "name": "python",
   "version": "3.12.2"
  }
 },
 "nbformat": 4,
 "nbformat_minor": 5
}
