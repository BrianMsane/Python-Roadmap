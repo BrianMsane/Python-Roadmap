{
 "cells": [
  {
   "cell_type": "markdown",
   "id": "8cc05a81",
   "metadata": {},
   "source": [
    "# Introduction to Python 🐍 Programming\n",
    "\n",
    "_**By: Brian Msane**_\n",
    "\n",
    "## What is Programming?\n",
    "\n",
    "**Programming** allows us to _communicate instructions to computers_. At their core, computers understand only sequences of zeros and ones, often called _machine code or binary_. Writing directly in machine code is incredibly difficult 🤔 and time-consuming. Programming languages act as intermediaries, providing a more human-readable way to write these instructions, which are then translated into a form the computer can execute.\n",
    "\n",
    "## What is Python\n",
    "\n",
    "**Python** is one such language which is said to be a **high-level, general purpose, interpreted** language. **High-level** means that the syntax allows you to write in your _plain natural language which is more similar to English_ in the case of Python. These allows for ease of use with people and breaks the barriers of entry for many. It is called **interpreted** because code is typically _executed line by line by a program called an interpreter_. When you run a Python script, the interpreter reads your code and performs the actions specified almost immediately. This is in contrast to many langages like C++ which are compiled langauges. Lastly, it is said to be a **general-purpose** langauge because it was not designed for a specific task; you can program backends, do machine learning, game programming, and many for tasks like data engineering, analsysis, and science.\n",
    "\n",
    "### Interpreter\n",
    "\n",
    "When you open an editor or IDLE and run the code `print(\"Hello world\")` something magical happens 😂.  **Your editor then runs the file through the Python interpreter, which reads through the program and determines what each word in the program means.**\n",
    "\n",
    "Note that we used the phrase _Python interpreter_, what really is it? _An interpreter is a program that translates high-level code into machine code line-by-line starting from the top to bottom, allowing the computer to execute the instructions_. It executes code line-by-line rather than compiling the entire program into machine code before execution and this allows for the flexibility and ease of debugging as errors are identified on the fly\n",
    "\n",
    "##### How does the Interpreter work?\n",
    "\n",
    "The Python Interpreter contains two components, namely `compiler` and `Python Virtual Machine`. When you run a Python script, the interpreter first compiles the source code into an intermediate format called **bytecode**. This bytecode is not machine code but a lower-level, platform-independent representation of the source code. The bytecode is then executed by the _PVM_, which translates it into **machine code** that the processor can understand and execute. This two-step process allows Python to be both interpreted and compiled, providing a balance between flexibility and performance.\n",
    "\n",
    "##### Types of Interpreters\n",
    "\n",
    "- Interactive Mode allows you to execute Python commands one at a time and see the results of immediately. To start this, after installing Python, you can use one of the options below.\n",
    "    - Search IDLE on start and click Enter. A Python `Integrative Development and Learning Environment` window will pop-up where you are prompted by `>>>` to start writing your code\n",
    "    - Go to the command line interface and then type the `python` command and you will see a result similar to the one in the image below.\\\n",
    "    ![running python from the terminal](../pics/terminal.png)\n",
    "- Script mode allows you to create python file with a `.py` file extension and then write multiple lines of code and then run the file to see the results of the program. From the `IDLE` you can create a new file using `Ctrl + N` and then start writing the code\n",
    "\n"
   ]
  },
  {
   "cell_type": "code",
   "execution_count": 1,
   "id": "400f2713",
   "metadata": {},
   "outputs": [
    {
     "name": "stdout",
     "output_type": "stream",
     "text": [
      "Hello world! 😂 77 &&& * \n",
      "I am coding in 🐍\n"
     ]
    }
   ],
   "source": [
    "print(\"Hello world! 😂 77 &&& * \") # double or single quotes\n",
    "print('I am coding in 🐍')"
   ]
  },
  {
   "cell_type": "markdown",
   "id": "3cfac56d",
   "metadata": {},
   "source": [
    "## Variables and Data Types\n",
    "\n",
    "In programming, a variable is a symbolic name that refereces or stores data. The data is stored in memory and the variable is a human-friendly way of referencing that memory instead of using strange hexa-decimal values like `Oxxx122` to refer to memory. A variable can also be thought of as a container or box that stores items in it; these item(s) are the actual data.\n",
    "\n",
    "### Key Features of Python Variables\n",
    "\n",
    "- Dynamically-typed: The type of a variable is determined at runtime\n",
    "- Case sensitive: `myVar` differs from `myvar`\n",
    "- Re-assignment: Variables can hold different types of data during execution.\n",
    "\n",
    "### Rules for Naming Variables:\n",
    "\n",
    "When you’re using variables in Python, you need to adhere to a few rules and guidelines. Breaking some of these rules will cause errors; other guidelines just help you write code that’s easier to read and understand.\n",
    "\n",
    "- Should be descriptive for better readability.\n",
    "- Can only contain letters, numbers, and/or underscores\n",
    "- Whitespaces, tabs, or new lines are not allowed when naming variables\n",
    "- Aphanumerical: Cannot start with a number.\n",
    "- Within it, only an underscore is used not any other special character like `#`\n",
    "- Cannot use Python keywords (e.g., `if`, `while`, `class`). A list of all Python keywords is in the image below.\\\n",
    "![python keywords](../pics/keywords.png)\n",
    "\n",
    "\\\n",
    "\n",
    "Breaking these rules is most likely going to results in errors.\n",
    "\n",
    "### Defining variables\n",
    "\n",
    "When defining a variable, there are three important components whicha re\n",
    "\n",
    "- Variable name: this is then name which should abide to the rules above.\n",
    "- Assignment operator is `=`\n",
    "- Value is the actual data you want to store in the variable"
   ]
  },
  {
   "cell_type": "code",
   "execution_count": 2,
   "id": "63aa4f8c",
   "metadata": {},
   "outputs": [
    {
     "name": "stdout",
     "output_type": "stream",
     "text": [
      "Thandokuhle Brian Msane\n",
      "I don't know it 😂\n",
      "23\n"
     ]
    }
   ],
   "source": [
    "# recommended variable names\n",
    "fullname = \"Thandokuhle Brian Msane\" # descriptive\n",
    "your_name = \"I don't know it 😂\"  # has an underscores (Pythonic)\n",
    "age_in_2025 = 23 # aphanumeric\n",
    "\n",
    "# not recommended\n",
    "f_n = \"Thandokuhle Brian Msane\" # not descriptive\n",
    "# 99_hey = \"This is wrong\" # starts with a numerical value\n",
    "\n",
    "print(fullname)\n",
    "print(your_name)\n",
    "print(age_in_2025)\n",
    "\n",
    "# print(f_m) # this will generate an error report with as many information as possible to help you in debugging"
   ]
  },
  {
   "cell_type": "markdown",
   "id": "31e91844",
   "metadata": {},
   "source": [
    "### Exercise 😁\n",
    "\n",
    "Write a code snippet which assigns your name into a variable and print that name."
   ]
  },
  {
   "cell_type": "code",
   "execution_count": null,
   "id": "9cbdc791",
   "metadata": {},
   "outputs": [],
   "source": [
    "# Your code here ..."
   ]
  },
  {
   "cell_type": "markdown",
   "id": "8e6bf394",
   "metadata": {},
   "source": [
    "### Data Types\n",
    "\n",
    "- Integers are whole numbers and arithmetic operations\n",
    "    - Addition\n",
    "    - Subtraction\n",
    "    - Division\n",
    "    - Floor division\n",
    "    - Multiplication\n",
    "    - Modulus; it gives you the remainder\n",
    "    - Exponentiation\n",
    "    - etc.\n",
    "- Floating point numbers are real numbers\n",
    "- Strings\n",
    "- Boolean which is `True` or `False`"
   ]
  },
  {
   "cell_type": "code",
   "execution_count": null,
   "id": "a4f08dba",
   "metadata": {},
   "outputs": [
    {
     "name": "stdout",
     "output_type": "stream",
     "text": [
      "1000000\n",
      "16\n",
      "-2\n",
      "0.7777777777777778\n",
      "0\n",
      "63\n",
      "49\n",
      "1\n",
      "1.0\n"
     ]
    }
   ],
   "source": [
    "# Integers\n",
    "\n",
    "a = 7\n",
    "b = 9\n",
    "million = 1_000_000 # underscores in numbers for readability purposes\n",
    "\n",
    "print(million)\n",
    "print(a + b)\n",
    "print(a - b)\n",
    "print(a / b)\n",
    "print(a // b) # floor division\n",
    "print(a * b)\n",
    "print(a ** 2) # squared\n",
    "print(a % 2)\n",
    "print(a + 1 - b * 7 / b)"
   ]
  },
  {
   "cell_type": "markdown",
   "id": "3b8e40a7",
   "metadata": {},
   "source": [
    "## Boolean"
   ]
  },
  {
   "cell_type": "code",
   "execution_count": 8,
   "id": "463a5b9f",
   "metadata": {},
   "outputs": [
    {
     "data": {
      "text/plain": [
       "False"
      ]
     },
     "execution_count": 8,
     "metadata": {},
     "output_type": "execute_result"
    }
   ],
   "source": [
    "True\n",
    "False"
   ]
  },
  {
   "cell_type": "markdown",
   "id": "d3623898",
   "metadata": {},
   "source": [
    "### OR\n",
    "| A     | B     | A OR B |\n",
    "|-------|-------|--------|\n",
    "| True  | True  | True   |\n",
    "| True  | False | True   |\n",
    "| False | False | False  |\n",
    "| False | True  | True   |\n",
    "\n",
    "### AND\n",
    "| A     | B     | A AND B |\n",
    "|-------|-------|---------|\n",
    "| True  | True  | True    |\n",
    "| True  | False | False   |\n",
    "| False | False | False   |\n",
    "| False | True  | False   |\n",
    "\n",
    "### XOR\n",
    "| A     | B     | A XOR B |\n",
    "|-------|-------|---------|\n",
    "| True  | True  | False   |\n",
    "| True  | False | True    |\n",
    "| False | False | False   |\n",
    "| False | True  | True    |\n",
    "\n",
    "### NAND\n",
    "| A     | B     | A NAND B |\n",
    "|-------|-------|----------|\n",
    "| True  | True  | False    |\n",
    "| True  | False | True     |\n",
    "| False | False | True     |\n",
    "| False | True  | True     |\n"
   ]
  },
  {
   "cell_type": "markdown",
   "id": "188df13f",
   "metadata": {},
   "source": [
    "## Note\n",
    "\n",
    "Just like in Math, Python supports the order of operations too such that operations are following each other in order. This is called `PEDMAS` in python instead of `BODMAS`. PEDMAS means\n",
    "\n",
    "- Parenthesis\n",
    "- Exponentiation\n",
    "- Division\n",
    "- Multiplication\n",
    "- Addition\n",
    "- Subtraction\n",
    "\n",
    "You start evaluatin what is in `()` first and then followed by `**` and then `/`, `*`, `+`, and `-` respectively."
   ]
  },
  {
   "cell_type": "markdown",
   "id": "dfc58d99",
   "metadata": {},
   "source": [
    "### Examples for PEDMAS"
   ]
  },
  {
   "cell_type": "code",
   "execution_count": null,
   "id": "7e61690b",
   "metadata": {},
   "outputs": [],
   "source": []
  },
  {
   "cell_type": "code",
   "execution_count": null,
   "id": "8604883e",
   "metadata": {},
   "outputs": [],
   "source": []
  },
  {
   "cell_type": "markdown",
   "id": "8fe50fc0",
   "metadata": {},
   "source": [
    "## Floating Point Number"
   ]
  },
  {
   "cell_type": "code",
   "execution_count": null,
   "id": "e0226ae2",
   "metadata": {},
   "outputs": [],
   "source": [
    "# Floating point numbers or floats 😂\n",
    "\n",
    "c = 7.111\n",
    "temperature = 25.5\n",
    "hieght = 1.73\n",
    "pi = 3.142"
   ]
  },
  {
   "cell_type": "markdown",
   "id": "57519193",
   "metadata": {},
   "source": [
    "## Exercise\n",
    "\n",
    "You can also apply the same arithmetic operation in floating point number and that will be your task. _Emphasizing learn by doing_"
   ]
  },
  {
   "cell_type": "code",
   "execution_count": null,
   "id": "68915316",
   "metadata": {},
   "outputs": [],
   "source": [
    "## Your code here ..\n"
   ]
  },
  {
   "cell_type": "markdown",
   "id": "3206a1af",
   "metadata": {},
   "source": [
    "#### Multiple Assignments\n",
    "\n",
    "You can assign values to more than one variable using just a single line of code. This can help shorten your programs and make them easier to read; you’ll use this technique most often when initializing a set of numbers"
   ]
  },
  {
   "cell_type": "code",
   "execution_count": null,
   "id": "30549049",
   "metadata": {},
   "outputs": [],
   "source": [
    "x = 10\n",
    "y = 100\n",
    "z = 1000"
   ]
  },
  {
   "cell_type": "code",
   "execution_count": 8,
   "id": "ca1a588f",
   "metadata": {},
   "outputs": [
    {
     "name": "stdout",
     "output_type": "stream",
     "text": [
      "10\n",
      "100\n",
      "1000\n"
     ]
    }
   ],
   "source": [
    "x, y, z = 10, 100, 1000\n",
    "print(x)\n",
    "print(y)\n",
    "print(z)"
   ]
  },
  {
   "cell_type": "markdown",
   "id": "670e2386",
   "metadata": {},
   "source": [
    "#### Constants\n",
    "\n",
    "A constant is a variable whose value stays the same throughout the life of a program. Python doesn’t have built-in constant types, but Python programmers use all capital letters to indicate a variable should be treated as a constant and never be changed"
   ]
  },
  {
   "cell_type": "code",
   "execution_count": null,
   "id": "0061a462",
   "metadata": {},
   "outputs": [],
   "source": [
    "NAME = 'Brian'\n",
    "SURNAME = 'Msane'\n"
   ]
  },
  {
   "cell_type": "markdown",
   "id": "f2ca6dfe",
   "metadata": {},
   "source": [
    "#### Comments\n",
    "\n",
    "Comments are lines of code that are ignored by the interpreter. They are not ran. As your programs become longer and more complicated, you should add notes within your programs that describe your overall approach to the problem you’re solving. A comment allows you to write notes in your spoken language, within your programs.\n",
    "\n",
    "#### Types of comments\n",
    "\n",
    "- Single line comment. Starts with a `#` and has text in one line\n",
    "- Multi-line comment spans across multiple lines and is denoted by triple quotes at the beginning and end of the comment such as \n",
    "```python\n",
    "\"\"\"\n",
    "This is a multi-line comment\n",
    "and this is its second line\n",
    "well, let's make this the last one\n",
    "\"\"\"\n",
    "\n",
    "'''\n",
    "line\n",
    "line\n",
    "line\n",
    "'''\n",
    "```"
   ]
  },
  {
   "cell_type": "code",
   "execution_count": null,
   "id": "f20ee0f0",
   "metadata": {},
   "outputs": [],
   "source": [
    "# this is a comment\n",
    "\n",
    "\"\"\"\n",
    "this is the first line\n",
    "this is the second line\n",
    "third line\n",
    "forth line\n",
    "\"\"\""
   ]
  },
  {
   "cell_type": "markdown",
   "id": "8314100f",
   "metadata": {},
   "source": [
    "### Strings\n",
    "\n",
    "A string is a series of characters. Anything inside quotes is considered a string in Python, and you can use single or double quotes around your strings.\n",
    "\n",
    "In python and programming in general, there are a couple of perations that can be applied on strings.\n",
    "\n",
    "- title()\n",
    "- strip()\n",
    "- split()\n",
    "- upper()\n",
    "- lower()\n",
    "- islower()\n",
    "- isupper()\n",
    "- etc.\n",
    "- formatted strings using `f` or `.format()`\n",
    "\n",
    "To call these `methods` you use the `dot` operator as shown below."
   ]
  },
  {
   "cell_type": "code",
   "execution_count": null,
   "id": "a0b1e9be",
   "metadata": {},
   "outputs": [
    {
     "name": "stdout",
     "output_type": "stream",
     "text": [
      "False\n"
     ]
    }
   ],
   "source": [
    "bank = 'FIRST national bank'\n",
    "\n",
    "print(bank.title()) # the first letter of every word is a capital letter\n",
    "print(bank.lower())\n",
    "print(bank.upper())\n",
    "print(bank.split())\n",
    "print(bank.lower())\n"
   ]
  },
  {
   "cell_type": "code",
   "execution_count": null,
   "id": "ed0e4c9f",
   "metadata": {},
   "outputs": [],
   "source": [
    "\"\"\"\n",
    "TODO:\n",
    " - string indexing 0 -> len(string) - 1 and negative indexes\n",
    " - string slicing \n",
    " - formatted strings\n",
    "\n",
    "\"\"\""
   ]
  },
  {
   "cell_type": "markdown",
   "id": "d460d51e",
   "metadata": {},
   "source": [
    "## Errors\n",
    "\n",
    "In Python, broadly there are three types of errors which are:\n",
    "\n",
    "- Syntax Errors occurs when the code violates the grammatical rules of the Python language. It is often the easiest error to fix because the Python interpreter catches it before the program even starts to run, and usually points directly to the line containing the mistake. If the syntax is incorrect, the program cannot be parsed\n",
    "\n",
    "    Common Causes: Missing keywords, forgetting a colon (:), unmatched parentheses or quotes, incorrect indentation (in Python).\n",
    "\n",
    "- Runtime Errors (also known as an Exception) occurs when the syntax is correct, and the program starts execution, but an operation cannot be completed successfully. This error is detected while the program is running.\n",
    "\n",
    "    Common Causes: Division by zero (ZeroDivisionError), trying to access a dictionary key that doesn't exist (KeyError), attempting an operation on an unsupported type (e.g., adding a string and an integer), or trying to access a list index out of bounds (IndexError).\n",
    "\n",
    "- Semantic Errors (or Logic Error) is the most challenging type of error to detect because the program runs without crashing, and the syntax is perfectly fine. The program successfully executes every instruction, but it produces an incorrect or unintended result because the programmer's logic was flawed\n",
    "\n",
    "    Common Causes: Using the wrong formula, accidentally assigning the wrong variable, incorrect loop conditions, or forgetting to update a state variable.\n",
    "\n"
   ]
  },
  {
   "cell_type": "markdown",
   "id": "f38c218d",
   "metadata": {},
   "source": []
  }
 ],
 "metadata": {
  "kernelspec": {
   "display_name": "python-backend-developer-roadmap (3.12.2)",
   "language": "python",
   "name": "python3"
  },
  "language_info": {
   "codemirror_mode": {
    "name": "ipython",
    "version": 3
   },
   "file_extension": ".py",
   "mimetype": "text/x-python",
   "name": "python",
   "nbconvert_exporter": "python",
   "pygments_lexer": "ipython3",
   "version": "3.12.2"
  }
 },
 "nbformat": 4,
 "nbformat_minor": 5
}
