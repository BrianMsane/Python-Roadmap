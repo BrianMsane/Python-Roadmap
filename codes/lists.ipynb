{
 "cells": [
  {
   "cell_type": "markdown",
   "id": "8b4a6887",
   "metadata": {},
   "source": [
    "# 🧑‍💻 Lists \n",
    "\n",
    "\n",
    "\n",
    "A list is a collection of items. These items should be arranged in a list format because they means someting together. For instance, the list of siblings or the list of prime numbers. In Python, square brackets `[]` indicate a list, and individual elements in the list are separated by commas. \n",
    "\n",
    "```python\n",
    "siblings = ['Noncedo', 'Sihlelelwe', 'Ncobizwe', 'Slindokuhle', 'Ncengwa']\n",
    "```\n",
    "It is important to follows the rules of naming variables when naming the lists.\n",
    "\n",
    "### Indexing Accessing Elements\n",
    "\n",
    "When you print the list you are going to use `print(list_name)` which is going to print everything including the square brackets. But this is not ideal and sometimes you would want to only use asingle element from the list. \n",
    "\n",
    "Lists are ordered collections, so you can access any element in a list by telling Python the position, or index, of the item desired. To access an element in a list, write the name of the list followed by the index of the item enclosed in square brackets. In some programming languages the index starts from 0 and typically these are the C-style of languages which include `['C', 'C++', \"Java\", \"Python\", \"JavaScritp\", \"etc.,\"]`. This means that if you want to print 'Noncedo' from the list of siblings you are going to use the syntax below.\n",
    "\n",
    "```python\n",
    "print(siblings[0])\n",
    "```\n",
    "\n",
    "Note that when the index starts from 0, it means that it will end at `n - 1` where n is the number of elements in the list. To get the length or number of elements in the list you can easily use the `len()` function and pass the name of the list within the paranthese.\n",
    "\n",
    "#### Note 💡\n",
    " - The elements in the list does not have to be unique; you can have multiple values which are the same. Say for instance my mother decides to have another child and names her \"Noncedo\" now the list of my siblings will be, `['Noncedo', 'Sihlelelwe', 'Ncobizwe', 'Slindokuhle', 'Ncengwa', 'Noncedo']` 🤗\n"
   ]
  },
  {
   "cell_type": "code",
   "execution_count": 6,
   "id": "4ff2b990",
   "metadata": {},
   "outputs": [
    {
     "name": "stdout",
     "output_type": "stream",
     "text": [
      "2\n",
      "19\n",
      "19\n"
     ]
    }
   ],
   "source": [
    "odd_numbers = [2, 3, 5, 7, 9, 11, 13, 15, 17, 19]\n",
    "\"\"\"\n",
    "2 -> 0\n",
    "3 -> 1\n",
    "5 -> 2\n",
    "7 -> 3\n",
    "9 -> 4\n",
    "11 -> 5\n",
    "13 -> 6\n",
    "15 -> 7\n",
    "17 -> 8\n",
    "19 -> 9\n",
    "\"\"\"\n",
    "# print(odd_numbers) # prints everything including the square brackets\n",
    "print(odd_numbers[0])\n",
    "print(odd_numbers[9])\n",
    "print(odd_numbers[len(odd_numbers) - 1])"
   ]
  },
  {
   "cell_type": "code",
   "execution_count": 11,
   "id": "01096c33",
   "metadata": {},
   "outputs": [
    {
     "name": "stdout",
     "output_type": "stream",
     "text": [
      "['bmw', 'merc', 'ferari', 'vw']\n"
     ]
    }
   ],
   "source": [
    "cars = ['bmw', 'merc', 'ferari']\n",
    "\n",
    "cars.append('vw')\n",
    "print(cars)"
   ]
  },
  {
   "cell_type": "code",
   "execution_count": 12,
   "id": "97a09707",
   "metadata": {},
   "outputs": [
    {
     "name": "stdout",
     "output_type": "stream",
     "text": [
      "['bmw', 'merc', 'ferari']\n"
     ]
    }
   ],
   "source": [
    "cars.pop()\n",
    "print(cars)"
   ]
  },
  {
   "cell_type": "code",
   "execution_count": 13,
   "id": "7a54d2b7",
   "metadata": {},
   "outputs": [
    {
     "name": "stdout",
     "output_type": "stream",
     "text": [
      "['bmw', 'ferari']\n"
     ]
    }
   ],
   "source": [
    "cars.remove('merc')\n",
    "print(cars)"
   ]
  },
  {
   "cell_type": "code",
   "execution_count": 14,
   "id": "2cd8f96a",
   "metadata": {},
   "outputs": [
    {
     "name": "stdout",
     "output_type": "stream",
     "text": [
      "['ferari']\n"
     ]
    }
   ],
   "source": [
    "del cars[0]\n",
    "print(cars)"
   ]
  },
  {
   "cell_type": "code",
   "execution_count": 15,
   "id": "fdc659fb",
   "metadata": {},
   "outputs": [
    {
     "name": "stdout",
     "output_type": "stream",
     "text": [
      "['ferari', 'audi']\n"
     ]
    }
   ],
   "source": [
    "cars.append('audi')\n",
    "print(cars)"
   ]
  },
  {
   "cell_type": "code",
   "execution_count": 20,
   "id": "b53448be",
   "metadata": {},
   "outputs": [
    {
     "name": "stdout",
     "output_type": "stream",
     "text": [
      "['toyota', 'kia', 'jaguar', 'tesla']\n"
     ]
    }
   ],
   "source": [
    "list2 = ['toyota', 'kia']\n",
    "list3 = ['jaguar', 'tesla']\n",
    "cars.extend(list2)\n",
    "cars.extend(list3)\n",
    "print(cars)"
   ]
  },
  {
   "cell_type": "code",
   "execution_count": 21,
   "id": "ae973a9d",
   "metadata": {},
   "outputs": [
    {
     "name": "stdout",
     "output_type": "stream",
     "text": [
      "['toyota', 'kia']\n"
     ]
    }
   ],
   "source": [
    "list3.clear()\n",
    "print(list2)"
   ]
  },
  {
   "cell_type": "code",
   "execution_count": 25,
   "id": "b8e0b0c4",
   "metadata": {},
   "outputs": [
    {
     "name": "stdout",
     "output_type": "stream",
     "text": [
      "['kia', 'toyota']\n"
     ]
    }
   ],
   "source": [
    "list2.reverse()\n",
    "print(list2)"
   ]
  },
  {
   "cell_type": "code",
   "execution_count": null,
   "id": "273a53e6",
   "metadata": {},
   "outputs": [],
   "source": [
    "print(list2)"
   ]
  },
  {
   "cell_type": "code",
   "execution_count": 19,
   "id": "68c8676a",
   "metadata": {},
   "outputs": [
    {
     "name": "stdout",
     "output_type": "stream",
     "text": [
      "[]\n"
     ]
    }
   ],
   "source": [
    "cars.clear()\n",
    "print(cars)"
   ]
  },
  {
   "cell_type": "code",
   "execution_count": 2,
   "id": "e47150a0",
   "metadata": {},
   "outputs": [
    {
     "name": "stdout",
     "output_type": "stream",
     "text": [
      "2\n",
      "9\n"
     ]
    }
   ],
   "source": [
    "# accessing values\n",
    "\n",
    "length = len(odd_numbers)\n",
    "\n",
    "print(odd_numbers[0])\n",
    "print(odd_numbers[length - 1])"
   ]
  },
  {
   "cell_type": "markdown",
   "id": "5ffd8a81",
   "metadata": {},
   "source": [
    "### Modifying\n",
    "\n",
    "In python, lists elements can be modified or `mutable` meaning that you can Delete, Replace/Update, Add new value to the list. These can be using the subscript syntance or using some methods which include:\n",
    "\n",
    "- `append(x)`; add element x at the end of the list\n",
    "- `pop()` or `pop(i)`; when i is specified the item at index _i_ is retrieved and also removed from the list, if _i_ is not specified the this operation applies to the element at the end of the list.\n",
    "- `remove(x)`; removes/delets element x from the list without specifying the index value.\n",
    "- `del list_name[index]`; removes an element at the specified index\n",
    "- `extend()`\n",
    "- `copy()`\n",
    "- `clear()`\n",
    "- `insert(index, element)`; inserts `element` into `index` \n",
    "- `reverse()`\n",
    "\n",
    "All these methods allows for flexibility when working with lists in Python as the assumption is that you don't initially know the data that you will be storing in your list until the program is running. Simply put, before giving birth to any babies, my mom did not know the names of all her children 😊💯\n",
    "\n",
    "Almost all these methods modify the list in-place; that is, they modify the list in memory such that any further references to the list contain the newly adjusted or changed version of the list. So, you need to be careful ⚠️"
   ]
  },
  {
   "cell_type": "code",
   "execution_count": 6,
   "id": "83b0f921",
   "metadata": {},
   "outputs": [
    {
     "name": "stdout",
     "output_type": "stream",
     "text": [
      "[13, 2, 3, 5, 7, 9, 11, 11, 11, 11]\n",
      "[13, 13, 2, 3, 5, 7, 9, 11, 11, 11, 11]\n"
     ]
    }
   ],
   "source": [
    "# Adding new values\n",
    "\n",
    "odd_numbers.append(11)\n",
    "print(odd_numbers)\n",
    "\n",
    "# Also you can insert new values at an index you want\n",
    "odd_numbers.insert(0, 13)\n",
    "print(odd_numbers)"
   ]
  },
  {
   "cell_type": "code",
   "execution_count": null,
   "id": "b9343146",
   "metadata": {},
   "outputs": [],
   "source": [
    "# remove the last and specified value using pop\n",
    "\n",
    "odd_numbers.pop(0)\n",
    "print(\"After removing the number at the 0 index, the list is: \", )\n"
   ]
  },
  {
   "cell_type": "markdown",
   "id": "75eac310",
   "metadata": {},
   "source": [
    "Sometimes you do not know the index of the item but you know that the item is in the list and you want to delete it. What you do in this case is exploiting `remove(element)`. If this item is not on the list, a `ValueError` will be raised and let's you know that `element` is not in the list.\n",
    "\n",
    "Also, when the element is specified, the `remove()` method will remove only the first occurrence of the value you specify. If there’s a possibility the value appears more than once in the list, you’ll need to use a loop to make sure all occurrences of the value are removed"
   ]
  },
  {
   "cell_type": "code",
   "execution_count": null,
   "id": "e224a6fc",
   "metadata": {},
   "outputs": [
    {
     "name": "stdout",
     "output_type": "stream",
     "text": [
      "After removing 13, the list is [13, 2, 3, 5, 9, 11, 11, 11, 11]\n"
     ]
    },
    {
     "ename": "ValueError",
     "evalue": "list.remove(x): x not in list",
     "output_type": "error",
     "traceback": [
      "\u001b[31m---------------------------------------------------------------------------\u001b[39m",
      "\u001b[31mValueError\u001b[39m                                Traceback (most recent call last)",
      "\u001b[36mCell\u001b[39m\u001b[36m \u001b[39m\u001b[32mIn[9]\u001b[39m\u001b[32m, line 3\u001b[39m\n\u001b[32m      1\u001b[39m odd_numbers.remove(\u001b[32m13\u001b[39m)\n\u001b[32m      2\u001b[39m \u001b[38;5;28mprint\u001b[39m(\u001b[33mf\u001b[39m\u001b[33m\"\u001b[39m\u001b[33mAfter removing 13, the list is \u001b[39m\u001b[38;5;132;01m{\u001b[39;00modd_numbers\u001b[38;5;132;01m}\u001b[39;00m\u001b[33m\"\u001b[39m) \u001b[38;5;66;03m# formated string\u001b[39;00m\n\u001b[32m----> \u001b[39m\u001b[32m3\u001b[39m \u001b[43modd_numbers\u001b[49m\u001b[43m.\u001b[49m\u001b[43mremove\u001b[49m\u001b[43m(\u001b[49m\u001b[32;43m99\u001b[39;49m\u001b[43m)\u001b[49m \u001b[38;5;66;03m# Raises a ValueError\u001b[39;00m\n\u001b[32m      4\u001b[39m \u001b[38;5;28mprint\u001b[39m(odd_numbers)\n",
      "\u001b[31mValueError\u001b[39m: list.remove(x): x not in list"
     ]
    }
   ],
   "source": [
    "odd_numbers.remove(13)\n",
    "print(f\"After removing 13, the list is {odd_numbers}\") # formated string\n",
    "odd_numbers.remove(99) # Raises a ValueError\n",
    "print(odd_numbers)\n"
   ]
  },
  {
   "cell_type": "markdown",
   "id": "2e8c5da0",
   "metadata": {},
   "source": [
    "### Exercise 🧠\n",
    "\n",
    "Let's imagine a scenario. In the beginning of the year there are 10 students in your class and after two weeks **Brian** joined your class. Thereafter, **Peter**, and **Happiness** were transferred from another school to your class. The other school took three students from your class (which were originally there; you are free to give names to them 😊).\n",
    "\n",
    "The order of students in your class are arranged in terms of highest performance. So the other school takes the best performing students. The worst performing students decides to drop after the first semester.\n",
    "\n",
    "Using two lists; one for your class and the other for the other school. Depict this situation taking into great consideration the details provided.\n"
   ]
  },
  {
   "cell_type": "code",
   "execution_count": null,
   "id": "13bfaf20",
   "metadata": {},
   "outputs": [],
   "source": [
    "# Your code here ....\n",
    "\n"
   ]
  },
  {
   "cell_type": "code",
   "execution_count": null,
   "id": "221d518f",
   "metadata": {},
   "outputs": [
    {
     "name": "stdout",
     "output_type": "stream",
     "text": [
      "['Brian', 'Chris', 'John', 'Happiness', 'ZP', 'Sam']\n"
     ]
    }
   ],
   "source": [
    "students = ['Brian', 'Chris', 'John']\n",
    "# We want to add three students at the same time without using three different append() statements\n",
    "\n",
    "new_students = ['Happiness', 'ZP', 'Sam']\n",
    "students.extend(new_students)\n",
    "print(students)\n"
   ]
  }
 ],
 "metadata": {
  "kernelspec": {
   "display_name": "python-backend-developer-roadmap (3.12.2)",
   "language": "python",
   "name": "python3"
  },
  "language_info": {
   "codemirror_mode": {
    "name": "ipython",
    "version": 3
   },
   "file_extension": ".py",
   "mimetype": "text/x-python",
   "name": "python",
   "nbconvert_exporter": "python",
   "pygments_lexer": "ipython3",
   "version": "3.12.2"
  }
 },
 "nbformat": 4,
 "nbformat_minor": 5
}
