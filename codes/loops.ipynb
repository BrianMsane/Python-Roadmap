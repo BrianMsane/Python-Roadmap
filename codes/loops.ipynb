{
 "cells": [
  {
   "cell_type": "markdown",
   "id": "55071741",
   "metadata": {},
   "source": [
    "# 🌀 Python Loops\n",
    "\n",
    "Loops in Python are fundamental _control structures_ used to **repeat** a block of code multiple times, either for a **specific number of iterations** or **until a condition is met**. They make programs more efficient by reducing repetition and increasing automation. In programming we have a principle called **Do not repeat yourself** which is popularly known as the _DRY_ principle which can be implemented using loops\n",
    "\n",
    "Python provides **two main types of loops**:\n",
    "1. **`for` loop** – Iterates over a sequence (like a list, tuple, string, or range).\n",
    "2. **`while` loop** – Repeats a block of code as long as a specified condition is `True`.\n",
    "\n",
    "You can also use **nested loops**, and **loop control statements** such as `break`, `continue`, and `pass`. Nesting a loop is basically having one loop inside the block of another loop. You can nest as many loop as you need.\n",
    "\n",
    "### Loop Control Statements\n",
    "\n",
    "- break; Stops the loop completely when a condition is met\n",
    "- continue; Skips the rest of the code in the current iteration and moves to the next one\n",
    "- pass; Used as a placeholder when you want a block of code syntactically but don’t want it to do anything yet.\n",
    "\n",
    "\n",
    "Make sure not to have `infinite loops` which is a loop which _runs forever and does not have a condition to stop_. This might crush your RAM.\n",
    "\n",
    "\n",
    "### 🔹The `for` Loop\n",
    "\n",
    "The `for` loop in Python is used to iterate over **iterable objects** such as lists, tuples, dictionaries, strings, or ranges.\n",
    "\n",
    "```python\n",
    "for variable in sequence:\n",
    "    # Code block to execute\n",
    "```\n",
    "\n",
    "A nested loop is a loop inside another loop. Commonly used for working with multi-dimensional data (like lists of lists).\n",
    "\n",
    "### Mandatory to understand\n",
    "\n",
    "- range()\n",
    "- enumerate()\n",
    "\n",
    "Note\n",
    "\n",
    "- When execution leaves a scope, all automatic objects that were created in that scope are destroyed.\n"
   ]
  },
  {
   "cell_type": "code",
   "execution_count": null,
   "id": "e3292765",
   "metadata": {},
   "outputs": [],
   "source": [
    "# Code ..\n",
    "\n",
    "students = ['brian', 'chris', 'zp', 'moses']\n",
    "for student in students:\n",
    "    print(student)\n"
   ]
  },
  {
   "cell_type": "code",
   "execution_count": null,
   "id": "02096b9b",
   "metadata": {},
   "outputs": [],
   "source": [
    "# Nested Loop\n",
    "\n",
    "for i in range(3):\n",
    "    for j in range(2):\n",
    "        print(f\"i={i}, j={j}\")"
   ]
  },
  {
   "cell_type": "markdown",
   "id": "155b7f9a",
   "metadata": {},
   "source": [
    "### For else\n",
    "\n",
    "\n",
    "Both for and while loops can have an else clause, which runs only when the loop finishes normally (not terminated by break)."
   ]
  },
  {
   "cell_type": "code",
   "execution_count": null,
   "id": "3523e59f",
   "metadata": {},
   "outputs": [],
   "source": []
  },
  {
   "cell_type": "markdown",
   "id": "ed263910",
   "metadata": {},
   "source": [
    "### Looping with `zip()`\n",
    "\n",
    "Used to iterate over multiple sequences simultaneously."
   ]
  },
  {
   "cell_type": "code",
   "execution_count": null,
   "id": "0b3a36ca",
   "metadata": {},
   "outputs": [],
   "source": [
    "parents = ['happiness', 'daniel', 'glory', 'john']\n",
    "\n",
    "for student, parent in zip(students, parents):\n",
    "    print(f\"The parent for {student} is {parent}\")"
   ]
  },
  {
   "cell_type": "markdown",
   "id": "cb036883",
   "metadata": {},
   "source": [
    "## `while` loop\n",
    "\n",
    "A `while` loop runs as long as the condition is _true_. When the condition becomes _false_, the loop stops.\n",
    "\n",
    "Syntax\n",
    "\n",
    "```python\n",
    "while condition:\n",
    "    # Code block\n",
    "```\n",
    "\n",
    "The condition has to evaluate to a Boolean value which is either True or False, if not, then it cannot be regarded as a condition."
   ]
  },
  {
   "cell_type": "code",
   "execution_count": null,
   "id": "d387183d",
   "metadata": {},
   "outputs": [],
   "source": [
    "count = 0\n",
    "while count < 5:\n",
    "    print(\"Count is:\", count)\n",
    "    count += 1"
   ]
  },
  {
   "cell_type": "markdown",
   "id": "c1a25818",
   "metadata": {},
   "source": [
    "### while...else"
   ]
  }
 ],
 "metadata": {
  "kernelspec": {
   "display_name": "python-backend-developer-roadmap (3.12.2)",
   "language": "python",
   "name": "python3"
  },
  "language_info": {
   "name": "python",
   "version": "3.12.2"
  }
 },
 "nbformat": 4,
 "nbformat_minor": 5
}
