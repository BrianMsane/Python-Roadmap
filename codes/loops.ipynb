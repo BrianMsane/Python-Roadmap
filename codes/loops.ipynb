{
 "cells": [
  {
   "cell_type": "markdown",
   "id": "55071741",
   "metadata": {},
   "source": [
    "# 🌀 Python Loops\n",
    "\n",
    "Loops in Python are fundamental _control structures_ used to **repeat** a block of code multiple times, either for a **specific number of iterations** or **until a condition is met**. They make programs more efficient by reducing repetition and increasing automation. In programming we have a principle called **Do not repeat yourself** which is popularly known as the _DRY_ principle which can be implemented using loops\n",
    "\n",
    "Python provides **two main types of loops**:\n",
    "1. **`for` loop** – Iterates over a sequence (like a list, tuple, string, dictionaries, set, or range).\n",
    "2. **`while` loop** – Repeats a block of code as long as a specified condition is `True`.\n",
    "\n",
    "You can also use **nested loops**, and **loop control statements** such as `break`, `continue`, and `pass`. Nesting a loop is basically having one loop inside the block of another loop. You can nest as many loop as you need.\n",
    "\n",
    "### Loop Control Statements\n",
    "\n",
    "- `break`; With the break statement we can stop the loop before it has looped through all the items\n",
    "- `continue`; Skips the rest of the code in the current iteration and moves to the next one\n",
    "- `pass`; Used as a placeholder when you want a block of code syntactically but don’t want it to do anything yet.\n",
    "\n",
    "\n",
    "Make sure not to have `infinite loops` which is a loop which _runs forever and does not have a condition to stop_. This might crush your RAM.\n",
    "\n",
    "\n",
    "A _nested loop_ is a loop inside another loop. Commonly used for working with multi-dimensional data (like lists of lists).\n",
    "\n",
    "\n",
    "**Note**: When execution leaves a scope, all automatic objects that were created in that scope are destroyed.\n"
   ]
  },
  {
   "cell_type": "markdown",
   "id": "9f231262",
   "metadata": {},
   "source": [
    "## `range()` function\n",
    "\n",
    "To loop through a set of code a _specified number of times_, we can use the `range()` function. It _returns a sequence of numbers, starting from 0 by default, and increments by 1 (by default), and ends at a specified number_. You can also specifiy the starting point, ending point, and step. For example, if you want to print all the even numberst between 20 and 40 you can set the starting point to be 20, the ending point can be 41, and the step should be 2. The ending point is 41 because it ends just before the specified ending point; that is, if you want the ending point to be included in your output, you need to add one, e.g., 40 + 1\n",
    "\n",
    "Syntax\n",
    "\n",
    "```python\n",
    "range(starting_point, ending_point, step)\n",
    "```\n",
    "\n",
    "The `range()` function ends at the speciefied `ending_point - 1`. Meaning that it is exclusive or does not include the speciifed ending point\n",
    "\n",
    "For example, say we want to use all the numbers from 0 to 5 we can have `range(5)`. This starts from 0 and if we want to start from one we could write it like this `range(1, 5)`. Still, the step is 1 and if we wanted to count in twos we could have wrot it like this `range(1, 5, 2)`. What is in-between the parentheses is called `arguments` and we will learn abou it when we learn about [functions](./functions.ipynb).\n",
    "\n",
    "The ending point should not be less than the starting if you want to count forward unless nothing will happen."
   ]
  },
  {
   "cell_type": "code",
   "execution_count": 6,
   "id": "e4dcb287",
   "metadata": {},
   "outputs": [
    {
     "name": "stdout",
     "output_type": "stream",
     "text": [
      "Hi, Chris\n",
      "Hi, Chris\n",
      "Hi, Chris\n",
      "Hi, Chris\n",
      "Hi, Chris\n"
     ]
    }
   ],
   "source": [
    "print('Hi, Chris')\n",
    "print('Hi, Chris')\n",
    "print('Hi, Chris')\n",
    "print('Hi, Chris')\n",
    "print('Hi, Chris')"
   ]
  },
  {
   "cell_type": "code",
   "execution_count": 7,
   "id": "ead8ca02",
   "metadata": {},
   "outputs": [
    {
     "name": "stdout",
     "output_type": "stream",
     "text": [
      "Hi, Chris 0\n",
      "Hi, Chris 1\n",
      "Hi, Chris 2\n",
      "Hi, Chris 3\n",
      "Hi, Chris 4\n"
     ]
    }
   ],
   "source": [
    "for i in range(5): # specified number of times 0 - 4 (5 times)\n",
    "    print('Hi, Chris', i)\n",
    "    # i gets incremented after each iteration"
   ]
  },
  {
   "cell_type": "code",
   "execution_count": null,
   "id": "12e1b9b0",
   "metadata": {},
   "outputs": [
    {
     "name": "stdout",
     "output_type": "stream",
     "text": [
      "T\n",
      "h\n",
      "a\n",
      "n\n",
      "d\n",
      "o\n",
      "k\n",
      "u\n",
      "h\n",
      "l\n",
      "e\n"
     ]
    }
   ],
   "source": [
    "# looping through a string\n",
    "\n",
    "for string in \"Thandokuhle\":\n",
    "    if string == 'o':\n",
    "        break # ending the loop before it iterates over every element in the string\n",
    "    print(string)"
   ]
  },
  {
   "cell_type": "code",
   "execution_count": 10,
   "id": "d1bf9019",
   "metadata": {},
   "outputs": [
    {
     "name": "stdout",
     "output_type": "stream",
     "text": [
      "20\n",
      "22\n",
      "24\n",
      "26\n",
      "28\n",
      "30\n",
      "32\n",
      "34\n",
      "36\n",
      "38\n",
      "40\n"
     ]
    }
   ],
   "source": [
    "# passing the starting point and ending point of the range\n",
    "for i in range(20, 41):\n",
    "    if i % 2 == 0: # even numbers do not leave a remainder when divided to 2\n",
    "        print(i)"
   ]
  },
  {
   "cell_type": "code",
   "execution_count": null,
   "id": "56dc8571",
   "metadata": {},
   "outputs": [
    {
     "data": {
      "text/plain": [
       "range(0, 5)"
      ]
     },
     "execution_count": 9,
     "metadata": {},
     "output_type": "execute_result"
    }
   ],
   "source": [
    "range(5) # goes from 0, by default and ends at 4"
   ]
  },
  {
   "cell_type": "code",
   "execution_count": 10,
   "id": "0ef13b05",
   "metadata": {},
   "outputs": [
    {
     "data": {
      "text/plain": [
       "range(1, 10)"
      ]
     },
     "execution_count": 10,
     "metadata": {},
     "output_type": "execute_result"
    }
   ],
   "source": [
    "range(1, 10) # starts at 1 and ends at 9"
   ]
  },
  {
   "cell_type": "code",
   "execution_count": 11,
   "id": "9adbf0d2",
   "metadata": {},
   "outputs": [
    {
     "data": {
      "text/plain": [
       "range(1, 12, 2)"
      ]
     },
     "execution_count": 11,
     "metadata": {},
     "output_type": "execute_result"
    }
   ],
   "source": [
    "range(1, 12, 2) # 1, 3, 5, 7, 9, 11"
   ]
  },
  {
   "cell_type": "markdown",
   "id": "22aaae66",
   "metadata": {},
   "source": [
    "### 🧠Exercise 1\n",
    "\n",
    "Using the `range()` function, show how you can get the list of odd numbers between 1 and 100. Remember; and odd number is a number that leaves a remainder of 1 when divided by 2."
   ]
  },
  {
   "cell_type": "code",
   "execution_count": null,
   "id": "371a9417",
   "metadata": {},
   "outputs": [],
   "source": [
    "# Your solution here..."
   ]
  },
  {
   "cell_type": "markdown",
   "id": "9e5fd462",
   "metadata": {},
   "source": [
    "\n",
    "## 🔹The `for` Loop\n",
    "\n",
    "The `for` loop in Python is used to iterate over **iterable objects** such as lists, tuples, dictionaries, set, strings, or ranges.\n",
    "\n",
    "Syntax\n",
    "\n",
    "```python\n",
    "for object in sequence:\n",
    "    # Code block to execute\n",
    "    # this code block iterates until a condition is met or for a specified number of times\n",
    "```\n",
    "\n",
    "### Loop variables\n",
    "\n",
    "The _variable_ called `object` in the above example is called a `loop variable` and it is **only accessible within the loop**. Trying to access it outside the loop should not be done.\n",
    "\n",
    "\n"
   ]
  },
  {
   "cell_type": "code",
   "execution_count": null,
   "id": "e3292765",
   "metadata": {},
   "outputs": [
    {
     "name": "stdout",
     "output_type": "stream",
     "text": [
      "brian\n",
      "chris\n",
      "zp\n",
      "moses\n"
     ]
    }
   ],
   "source": [
    "# Looping through a list\n",
    "\n",
    "students = ['brian', 'chris', 'zp', 'moses']\n",
    "\n",
    "for name in students:\n",
    "    print(name)\n",
    "\n",
    "# name is the loop variable\n",
    "# students is the iterable object (list)"
   ]
  },
  {
   "cell_type": "code",
   "execution_count": null,
   "id": "ded68386",
   "metadata": {},
   "outputs": [
    {
     "name": "stdout",
     "output_type": "stream",
     "text": [
      "2\n",
      "4\n",
      "7\n",
      "8\n",
      "2\n",
      "1\n"
     ]
    }
   ],
   "source": [
    "# looping through a tuple\n",
    "\n",
    "coordinates = (2, 4, 7, 8, 2, 1)\n",
    "\n",
    "for i in coordinates:\n",
    "    print(i)"
   ]
  },
  {
   "cell_type": "markdown",
   "id": "23b4404d",
   "metadata": {},
   "source": [
    "The `enumerate()` function in Python is a _built-in_ utility that **adds a counter to an iterable, returning both the index and the corresponding value as a tuple**. This is particularly useful when you need both the index and the value during iteration. For instance, when iterating over a list, you might want to also get the index of each object and do some operations on it."
   ]
  },
  {
   "cell_type": "code",
   "execution_count": 11,
   "id": "cd13c07a",
   "metadata": {},
   "outputs": [
    {
     "name": "stdout",
     "output_type": "stream",
     "text": [
      "0 ronaldo\n",
      "1 messi\n",
      "2 neymar\n",
      "3 bruno\n"
     ]
    }
   ],
   "source": [
    "# enumarate\n",
    "stars = ['ronaldo', 'messi', 'neymar', 'bruno']\n",
    "\n",
    "for index, star in enumerate(stars):\n",
    "    print(index, star)"
   ]
  },
  {
   "cell_type": "code",
   "execution_count": 16,
   "id": "da649539",
   "metadata": {},
   "outputs": [
    {
     "name": "stdout",
     "output_type": "stream",
     "text": [
      "Your fullname is: Thandokuhle Brian Msane\n"
     ]
    }
   ],
   "source": [
    "# Looping throught a dictionary\n",
    "\n",
    "student = {\n",
    "    \"name\": \"Thandokuhle\",\n",
    "    \"middle_name\": \"Brian\",\n",
    "    \"surname\": \"Msane\",\n",
    "    \"level\": 'four',\n",
    "    'gpa': None,\n",
    "}\n",
    "\n",
    "full_name = \"\" # empty string\n",
    "\n",
    "for key, value in student.items():\n",
    "    if key == 'name' or key == 'middle_name' or key == 'surname':\n",
    "        full_name += f' {value}' # concatenation\n",
    "\n",
    "\n",
    "print(\"Your fullname is:\", full_name.strip()) # strip removes extra whitespaces"
   ]
  },
  {
   "cell_type": "code",
   "execution_count": null,
   "id": "1b97f925",
   "metadata": {},
   "outputs": [
    {
     "name": "stdout",
     "output_type": "stream",
     "text": [
      "abc\n"
     ]
    }
   ],
   "source": [
    "print('a' + 'b' + 'c') # concatenation"
   ]
  },
  {
   "cell_type": "code",
   "execution_count": 20,
   "id": "9faf0566",
   "metadata": {},
   "outputs": [
    {
     "name": "stdout",
     "output_type": "stream",
     "text": [
      "name\n",
      "middle_name\n",
      "surname\n",
      "level\n",
      "gpa\n"
     ]
    }
   ],
   "source": [
    "for key in student.keys():\n",
    "    print(key)"
   ]
  },
  {
   "cell_type": "code",
   "execution_count": 21,
   "id": "41a17103",
   "metadata": {},
   "outputs": [
    {
     "name": "stdout",
     "output_type": "stream",
     "text": [
      "Thandokuhle\n",
      "Brian\n",
      "Msane\n",
      "four\n",
      "None\n"
     ]
    }
   ],
   "source": [
    "for value in student.values():\n",
    "    print(value)"
   ]
  },
  {
   "cell_type": "code",
   "execution_count": null,
   "id": "02096b9b",
   "metadata": {},
   "outputs": [
    {
     "name": "stdout",
     "output_type": "stream",
     "text": [
      "1 X 1 = 1\n",
      "1 X 2 = 2\n",
      "1 X 3 = 3\n",
      "1 X 4 = 4\n",
      "\n",
      "2 X 1 = 2\n",
      "2 X 2 = 4\n",
      "2 X 3 = 6\n",
      "2 X 4 = 8\n",
      "\n",
      "3 X 1 = 3\n",
      "3 X 2 = 6\n",
      "3 X 3 = 9\n",
      "3 X 4 = 12\n",
      "\n",
      "4 X 1 = 4\n",
      "4 X 2 = 8\n",
      "4 X 3 = 12\n",
      "4 X 4 = 16\n",
      "\n"
     ]
    }
   ],
   "source": [
    "# Nested Loop\n",
    "\n",
    "for i in range(1, 5):\n",
    "    for j in range(1, 5):\n",
    "        print(f\"{i} X {j} = {i * j}\")\n",
    "    print()"
   ]
  },
  {
   "cell_type": "markdown",
   "id": "9c419716",
   "metadata": {},
   "source": [
    "Note\n",
    "\n",
    "Nested for loop\n",
    "Video: "
   ]
  },
  {
   "cell_type": "code",
   "execution_count": 24,
   "id": "cc325bfd",
   "metadata": {},
   "outputs": [
    {
     "name": "stdout",
     "output_type": "stream",
     "text": [
      "blue\n",
      "yellow\n",
      "green\n",
      "red\n"
     ]
    }
   ],
   "source": [
    "# Looping through a set\n",
    "\n",
    "colors = {'red', 'blue', 'green', 'yellow', 'blue', 'blue'} # automatically removes duplicates\n",
    "for color in colors:\n",
    "    # if color == 'red':\n",
    "    #     break\n",
    "    print(color)"
   ]
  },
  {
   "cell_type": "markdown",
   "id": "155b7f9a",
   "metadata": {},
   "source": [
    "### `for... else`\n",
    "\n",
    "\n",
    "Both for and while loops can have an else clause, which runs only when the loop finishes normally (not terminated by break).\n",
    "\n",
    "Syntax\n",
    "\n",
    "```python\n",
    "for range/object: in sequence\n",
    "    # code block\n",
    "else:\n",
    "    # code block to run in for was not terminated by break - everything ran well\n",
    "```"
   ]
  },
  {
   "cell_type": "code",
   "execution_count": 25,
   "id": "3523e59f",
   "metadata": {},
   "outputs": [
    {
     "name": "stdout",
     "output_type": "stream",
     "text": [
      "5\n",
      "All numbers were printed\n"
     ]
    }
   ],
   "source": [
    "for i in range(10):\n",
    "    if i == 5:\n",
    "        print(i)\n",
    "else:\n",
    "    print(\"All numbers were printed\")"
   ]
  },
  {
   "cell_type": "code",
   "execution_count": 26,
   "id": "d91a9a90",
   "metadata": {},
   "outputs": [
    {
     "name": "stdout",
     "output_type": "stream",
     "text": [
      "5\n"
     ]
    }
   ],
   "source": [
    "for i in range(10):\n",
    "    if i == 5:\n",
    "        print(5)\n",
    "        break\n",
    "else:\n",
    "    print(\"All numbers were printed\")"
   ]
  },
  {
   "cell_type": "markdown",
   "id": "ed263910",
   "metadata": {},
   "source": [
    "### Looping with `zip()`\n",
    "\n",
    "Used to iterate over multiple sequences simultaneously."
   ]
  },
  {
   "cell_type": "code",
   "execution_count": 32,
   "id": "0b3a36ca",
   "metadata": {},
   "outputs": [
    {
     "name": "stdout",
     "output_type": "stream",
     "text": [
      "The parent for brian is happiness\n",
      "The parent for chris is daniel\n",
      "The parent for zp is glory\n",
      "The parent for moses is john\n",
      "The parent for ben is donald\n"
     ]
    }
   ],
   "source": [
    "parents = ['happiness', 'daniel', 'glory', 'john', 'donald']\n",
    "students = ['brian', 'chris', 'zp', 'moses', 'ben']\n",
    "\n",
    "for student, parent in zip(students, parents, strict=True):\n",
    "    print(f\"The parent for {student} is {parent}\")"
   ]
  },
  {
   "cell_type": "markdown",
   "id": "cb036883",
   "metadata": {},
   "source": [
    "## `while` loop\n",
    "\n",
    "A `while` loop runs as long as the condition is _true_. When the condition becomes _false_, the loop stops.\n",
    "\n",
    "Syntax\n",
    "\n",
    "```python\n",
    "while condition:\n",
    "    # Code block\n",
    "```\n",
    "\n",
    "The condition has to evaluate to a Boolean value which is either True or False, if not, then it cannot be regarded as a condition.\n",
    "\n",
    "### How it works\n",
    "\n",
    "We mentioned that a loop can _run until a condition is invalidated_. So, looping also includes conditional programming 🤔 (yeah everything feeds to everything 😂). What really happens is that there are some conditional tests that happens. If the conditions is `False` the loops continues to the next step else it finishes. This will be demonstrated.\n"
   ]
  },
  {
   "cell_type": "code",
   "execution_count": null,
   "id": "d387183d",
   "metadata": {},
   "outputs": [],
   "source": [
    "count = 10 # starting point\n",
    "while count < 5: # ending point\n",
    "    print(\"Count is:\", count)\n",
    "    count += 1 # increment/decrement"
   ]
  },
  {
   "cell_type": "markdown",
   "id": "5644c25c",
   "metadata": {},
   "source": [
    "So, what happened here is that we "
   ]
  },
  {
   "cell_type": "markdown",
   "id": "c1a25818",
   "metadata": {},
   "source": [
    "### `while...else`\n",
    "\n",
    "Likewise, the `else` block gets executed when the `while` block is not terminated by `break` statements."
   ]
  },
  {
   "cell_type": "code",
   "execution_count": 35,
   "id": "b5e67543",
   "metadata": {},
   "outputs": [
    {
     "name": "stdout",
     "output_type": "stream",
     "text": [
      "0\n",
      "1\n",
      "2\n",
      "3\n",
      "4\n",
      "5\n",
      "6\n",
      "7\n",
      "8\n",
      "9\n",
      "10\n",
      "Everything went well\n"
     ]
    }
   ],
   "source": [
    "initial = 0\n",
    "while initial <= 10:\n",
    "    print(initial)\n",
    "    initial += 1\n",
    "else:\n",
    "    print('Everything went well')"
   ]
  },
  {
   "cell_type": "code",
   "execution_count": null,
   "id": "c5d4ca49",
   "metadata": {},
   "outputs": [],
   "source": [
    "var = 7\n",
    "while True:\n",
    "    if var > 15:\n",
    "        break\n",
    "    print(var)\n",
    "    var += 1\n",
    "else:\n",
    "    print('run')"
   ]
  }
 ],
 "metadata": {
  "kernelspec": {
   "display_name": "python-backend-developer-roadmap (3.12.2)",
   "language": "python",
   "name": "python3"
  },
  "language_info": {
   "codemirror_mode": {
    "name": "ipython",
    "version": 3
   },
   "file_extension": ".py",
   "mimetype": "text/x-python",
   "name": "python",
   "nbconvert_exporter": "python",
   "pygments_lexer": "ipython3",
   "version": "3.12.2"
  }
 },
 "nbformat": 4,
 "nbformat_minor": 5
}
