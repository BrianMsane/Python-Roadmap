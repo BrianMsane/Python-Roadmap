{
 "cells": [
  {
   "cell_type": "markdown",
   "id": "4d9e5054",
   "metadata": {},
   "source": [
    "# Python Operators\n",
    "\n",
    "In Python, operators are **special symbols or keywords** used to perform operations on variables and values. They are categorized into several types which are explored in this notebook. What is important to know is that we have terms like `operator` and `operand` and we also have three forms of operators which are\n",
    "\n",
    "- `Unary`; taking only one operand\n",
    "- `Binary`; taking only two operands\n",
    "- `Ternary`; more than two operands\n",
    "\n",
    "We have different categories of operators in Python, as mentioned, and these are:\n",
    "\n",
    "- Arithmetic Operators\n",
    "- Conditional Operators\n",
    "- Bitwise Operators\n",
    "- Logical Operators\n",
    "- Identity Operators\n",
    "- Membership Operators\n",
    "- Assignment Operators"
   ]
  },
  {
   "cell_type": "markdown",
   "id": "f530e50a",
   "metadata": {},
   "source": [
    "## Arithmetic Operators\n",
    "\n",
    "These are operators which are used with numeric values, both `integers` and `floats`, to perform common mathematical operations.\n",
    "\n",
    "| Operator | Name           | Description                                                                 |\n",
    "|----------|----------------|-----------------------------------------------------------------------------|\n",
    "| +        | Addition       | Adds two operands together. Example: `3 + 2 = 5`                           |\n",
    "| -        | Subtraction    | Subtracts the right operand from the left operand. Example: `5 - 3 = 2`    |\n",
    "| *        | Multiplication | Multiplies two operands. Example: `4 * 2 = 8`                              |\n",
    "| /        | Division       | Divides the left operand by the right operand and returns a float. Example: `7 / 2 = 3.5` |\n",
    "| %        | Modulus        | Returns the remainder after division of the left operand by the right operand. Example: `7 % 2 = 1` |\n",
    "| **       | Exponentiation | Raises the left operand to the power of the right operand. Example: `2 ** 3 = 8` |\n",
    "| //       | Floor Division | Divides the left operand by the right operand and returns the largest whole number less than or equal to the result (truncates the decimal). Example: `7 // 2 = 3` |\n",
    "\n",
    "\n",
    "Note\n",
    "\n",
    "- `Modulus`: what modulus says is that what is the remiander when the left operand is divided by the right operand. We first compute the division, `/` and then take the remainder of the division to be our answer.\n",
    "- `Floor division` takes the integer part of division and discards everything else that comes after the decimal point.\n"
   ]
  },
  {
   "cell_type": "code",
   "execution_count": 7,
   "id": "233ace3b",
   "metadata": {},
   "outputs": [
    {
     "name": "stdout",
     "output_type": "stream",
     "text": [
      "The sum of x and y is : 17\n",
      "The difference of y and x is : 3\n",
      "The 'product' of x and y is:  70\n",
      "The division of x and y is:  0.7\n",
      "The floor division of x and y is:  0\n",
      "The remainder when x is divided by y is:  7\n",
      "When x is raised to the power y we get:  282475249\n"
     ]
    }
   ],
   "source": [
    "# Code ...\n",
    "\n",
    "x, y = 7, 10\n",
    "\n",
    "print(\"The sum of x and y is :\", x + y)\n",
    "print(\"The difference of y and x is :\", y - x)\n",
    "print(\"The 'product' of x and y is: \", x*y)\n",
    "print(\"The division of x and y is: \", x/y )\n",
    "print(\"The floor division of x and y is: \", x//y)\n",
    "print(\"The remainder when x is divided by y is: \", x%y)\n",
    "print(\"When x is raised to the power y we get: \", x**y)"
   ]
  },
  {
   "cell_type": "markdown",
   "id": "ba43e8c5",
   "metadata": {},
   "source": [
    "## Comparison Operators\n",
    "\n",
    "Comparison operators are used to compare two values. They return a Boolean value (`True` or `False`) based on the condition.\n",
    "\n",
    "| Operator | Name                        | Description                                                                 |\n",
    "|----------|-----------------------------|-----------------------------------------------------------------------------|\n",
    "| ==       | Equal                       | Returns `True` if both operands are equal, otherwise `False`. Example: `x == y` |\n",
    "| !=       | Not Equal                   | Returns `True` if operands are not equal, otherwise `False`. Example: `x != y` |\n",
    "| >        | Strictly Greater Than                | Returns `True` if the left operand is greater than the right operand. Example: `x > y` |\n",
    "| <        | Strictly Less Than                   | Returns `True` if the left operand is less than the right operand. Example: `x < y` |\n",
    "| >=       | Greater Than or Equal To    | Returns `True` if the left operand is greater than or equal to the right operand. Example: `x >= y` |\n",
    "| <=       | Less Than or Equal To       | Returns `True` if the left operand is less than or equal to the right operand. Example: `x <= y` |\n",
    "\n",
    "Comparison operators check both the **value** and then **data types**; if both of them pass, it returns True, otherwise False.\n",
    "\n",
    "\n",
    "Note\n",
    "\n",
    "- `<=` first compute `<` and then computes `==` and if the result of either of them is `True`, then the final answer is True\n",
    "- `>=` first computes `>` and then computes `==` and if the result of either of them is `True`, then the final answer is True"
   ]
  },
  {
   "cell_type": "code",
   "execution_count": 14,
   "id": "7e972848",
   "metadata": {},
   "outputs": [
    {
     "name": "stdout",
     "output_type": "stream",
     "text": [
      "a is greater than b:  False\n",
      "a is less than b:  True\n",
      "a is equals to b:  False\n",
      "a is not equals to b:  True\n",
      "b is greater or equal to c:  True\n",
      "a is less than or equal to c: True\n"
     ]
    }
   ],
   "source": [
    "# Code ..\n",
    "\n",
    "a, b, c = 1, 7, 7\n",
    "\n",
    "print(\"a is greater than b: \", a > b)\n",
    "print(\"a is less than b: \", a < b)\n",
    "print(\"a is equals to b: \", a == b)\n",
    "print(\"a is not equals to b: \", a != b)\n",
    "print(\"b is greater or equal to c: \", b >= c)\n",
    "print('a is less than or equal to c:', a <= c)"
   ]
  },
  {
   "cell_type": "markdown",
   "id": "987c2c0d",
   "metadata": {},
   "source": [
    "## Logical Operators\n",
    "\n",
    "Logical operators are used to combine conditional statements. A conditional statement is a statement that returns either `True` or `False`. It is made of _comparison operators_. They return a Boolean value (`True` or `False`) based on the logic.\n",
    "\n",
    "| Operator | Name   | Description                                                                 |\n",
    "|----------|--------|-----------------------------------------------------------------------------|\n",
    "| and      | Logical AND | Returns `True` if both statements are true, otherwise `False`. Example: `x < 5 and x < 10` |\n",
    "| or       | Logical OR  | Returns `True` if at least one of the statements is true. Example: `x < 5 or x < 4` |\n",
    "| not      | Logical NOT | Reverses the result of the condition. Returns `False` if the result is true, and `True` if the result is false. Example: `not(x < 5 and x < 10)` |\n",
    "\n",
    "\n",
    "- not is a _unary operator_; it needs only one operand"
   ]
  },
  {
   "cell_type": "code",
   "execution_count": null,
   "id": "fb9559a6",
   "metadata": {},
   "outputs": [
    {
     "name": "stdout",
     "output_type": "stream",
     "text": [
      "True\n",
      "False\n",
      "True\n",
      "False\n",
      "True\n",
      "You are the person to take the ID\n"
     ]
    }
   ],
   "source": [
    "# Code ...\n",
    "\n",
    "print(True and True)\n",
    "print(True and False)\n",
    "\n",
    "print(True or True)\n",
    "print(False or False)\n",
    "print(True or False)\n",
    "\n",
    "\n",
    "twin1 = ['msane', 'brian']\n",
    "twin2 = ['msane', 'bryan']\n",
    "\n",
    "real_name = ['msane', 'brian']\n",
    "\n",
    "condition1 = twin2[0] == real_name[0]\n",
    "condition2 = twin2[1] == real_name[1]\n",
    "\n",
    "if condition1 or condition2:\n",
    "    print(\"You are the person to take the ID\")\n"
   ]
  },
  {
   "cell_type": "markdown",
   "id": "97345ce9",
   "metadata": {},
   "source": [
    "## Identity Operators\n",
    "\n",
    "Identity operators are used to compare the memory locations of two objects. They return a Boolean value (`True` or `False`).\n",
    "\n",
    "| Operator | Name          | Description                                                                 |\n",
    "|----------|---------------|-----------------------------------------------------------------------------|\n",
    "| is       | Is            | Returns `True` if both variables point to the same object in memory. Example: `x is y` |\n",
    "| is not   | Is Not        | Returns `True` if both variables do not point to the same object in memory. Example: `x is not y` |\n"
   ]
  },
  {
   "cell_type": "code",
   "execution_count": null,
   "id": "b09b9c10",
   "metadata": {},
   "outputs": [],
   "source": [
    "# Code ..."
   ]
  },
  {
   "cell_type": "markdown",
   "id": "a0bb75cd",
   "metadata": {},
   "source": [
    "## Membership Operators in Python\n",
    "\n",
    "Membership operators are used to test if a value or sequence is present in an object. They return a Boolean value (`True` or `False`).\n",
    "\n",
    "| Operator  | Name       | Description                                                                 |\n",
    "|-----------|------------|-----------------------------------------------------------------------------|\n",
    "| in        | In         | Returns `True` if the specified value is present in the sequence or object. Example: `x in y` |\n",
    "| not in    | Not In     | Returns `True` if the specified value is not present in the sequence or object. Example: `x not in y` |\n"
   ]
  },
  {
   "cell_type": "code",
   "execution_count": 24,
   "id": "cf43865f",
   "metadata": {},
   "outputs": [
    {
     "name": "stdout",
     "output_type": "stream",
     "text": [
      "False\n",
      "True\n"
     ]
    }
   ],
   "source": [
    "# Code ...\n",
    "\n",
    "fruits = ['banana', 'apple', 'orange', 'tomato']\n",
    "print('mango' in fruits)\n",
    "print('mango' not in fruits)"
   ]
  },
  {
   "cell_type": "markdown",
   "id": "ed690578",
   "metadata": {},
   "source": [
    "## Assignment Operators in Python\n",
    "\n",
    "Assignment operators are used to assign values to variables. Some of them perform two operations: first an arithmetic/bitwise operation, then the actual assignment.\n",
    "\n",
    "| Operator | Name                   | Description                                                                 |\n",
    "|----------|------------------------|-----------------------------------------------------------------------------|\n",
    "| =        | Assignment             | Assigns the value on the right to the variable on the left. Example: `x = 5`|\n",
    "| +=       | Add and Assign         | Adds the right operand to the left operand and assigns the result to the left operand. Example: `x += 3` is `x = x + 3` |\n",
    "| -=       | Subtract and Assign    | Subtracts the right operand from the left operand and assigns the result to the left operand. Example: `x -= 3` is `x = x - 3` |\n",
    "| *=       | Multiply and Assign    | Multiplies the left operand by the right operand and assigns the result. Example: `x *= 3` is `x = x * 3` |\n",
    "| /=       | Divide and Assign      | Divides the left operand by the right operand and assigns the result (float). Example: `x /= 3` is `x = x / 3` |\n",
    "| %=       | Modulus and Assign     | Takes the modulus of the left operand by the right operand and assigns the result. Example: `x %= 3` is `x = x % 3` |\n",
    "| //=      | Floor Divide and Assign| Performs floor division and assigns the result. Example: `x //= 3` is `x = x // 3` |\n",
    "| **=      | Exponent and Assign    | Raises the left operand to the power of the right operand and assigns the result. Example: `x **= 3` is `x = x ** 3` |\n",
    "| &=       | Bitwise AND and Assign | Performs bitwise AND and assigns the result. Example: `x &= 3` is `x = x & 3` |\n",
    "| \\|=      | Bitwise OR and Assign  | Performs bitwise OR and assigns the result. Example: `x |= 3` is `x = x | 3` |\n",
    "| ^=       | Bitwise XOR and Assign | Performs bitwise XOR and assigns the result. Example: `x ^= 3` is `x = x ^ 3` |\n",
    "| >>=      | Bitwise Right Shift and Assign | Shifts the bits of the left operand to the right by the number of positions specified and assigns the result. Example: `x >>= 3` is `x = x >> 3` |\n",
    "| <<=      | Bitwise Left Shift and Assign  | Shifts the bits of the left operand to the left by the number of positions specified and assigns the result. Example: `x <<= 3` is `x = x << 3` |\n",
    "| :=       | Walrus Operator (Assign and Return) | Assigns a value to a variable as part of an expression and returns the value. Example: `print(x := 3)` assigns 3 to `x` and prints `3` |\n"
   ]
  },
  {
   "cell_type": "code",
   "execution_count": 25,
   "id": "61ff21f5",
   "metadata": {},
   "outputs": [
    {
     "ename": "SyntaxError",
     "evalue": "invalid syntax (1826658508.py, line 5)",
     "output_type": "error",
     "traceback": [
      "  \u001b[36mCell\u001b[39m\u001b[36m \u001b[39m\u001b[32mIn[25]\u001b[39m\u001b[32m, line 5\u001b[39m\n\u001b[31m    \u001b[39m\u001b[31mprint(j += k)\u001b[39m\n            ^\n\u001b[31mSyntaxError\u001b[39m\u001b[31m:\u001b[39m invalid syntax\n"
     ]
    }
   ],
   "source": [
    "# Code ...\n",
    "\n",
    "j, k = 8, 9\n",
    "\n",
    "print(j += k)"
   ]
  },
  {
   "cell_type": "markdown",
   "id": "8ca1cb89",
   "metadata": {},
   "source": [
    "## Bitwise Operators in Python\n",
    "\n",
    "Bitwise operators are used to perform operations on binary representations of integers.\n",
    "\n",
    "| Operator | Name                  | Description                                                                 |\n",
    "|----------|----------------------|-----------------------------------------------------------------------------|\n",
    "| &        | AND                  | Sets each bit to 1 if both bits are 1. Example: `x & y`                     |\n",
    "| \\|       | OR                   | Sets each bit to 1 if at least one of the bits is 1. Example: `x | y`       |\n",
    "| ^        | XOR                  | Sets each bit to 1 if only one of the two bits is 1. Example: `x ^ y`       |\n",
    "| ~        | NOT                  | Inverts all the bits (1’s complement). Example: `~x`                        |\n",
    "| <<       | Left Shift           | Shifts bits to the left by the specified number of positions, filling 0 on the right. Example: `x << 2` |\n",
    "| >>       | Right Shift          | Shifts bits to the right by the specified number of positions, copying the leftmost bit. Example: `x >> 2` |\n"
   ]
  }
 ],
 "metadata": {
  "kernelspec": {
   "display_name": "python-backend-developer-roadmap (3.12.2)",
   "language": "python",
   "name": "python3"
  },
  "language_info": {
   "codemirror_mode": {
    "name": "ipython",
    "version": 3
   },
   "file_extension": ".py",
   "mimetype": "text/x-python",
   "name": "python",
   "nbconvert_exporter": "python",
   "pygments_lexer": "ipython3",
   "version": "3.12.2"
  }
 },
 "nbformat": 4,
 "nbformat_minor": 5
}
