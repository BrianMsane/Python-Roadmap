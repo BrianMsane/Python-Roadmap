{
 "cells": [
  {
   "cell_type": "markdown",
   "id": "fa3d5ecb",
   "metadata": {},
   "source": [
    "# 📦 Python Tuples\n",
    "\n",
    "A Tuple is a built-in Python data type that stores a fixed, ordered sequence of elements. They are structurally similar to lists but have one crucial difference: immutability. Tuples are primarily defined using parentheses (), though they are optional in many contexts.\n",
    "\n",
    "### Key Characteristics:\n",
    "- Ordered: The elements maintain the order in which they were defined.\n",
    "- Indexed: Elements are accessed via numerical indices (starting at 0), just like lists.\n",
    "- Immutable (Crucial!): Once a tuple is created, you cannot change its contents (add, remove, or modify elements). This makes them excellent for data that should not be altered (like coordinates, configuration settings, or database records).\n",
    "- Heterogeneous: They can hold elements of different data types.\n",
    "\n",
    "### Methods of creating\n",
    "\n",
    "- Using parenthesis\n",
    "- Single element tuple\n",
    "- `tuple()` constructor\n"
   ]
  },
  {
   "cell_type": "code",
   "execution_count": null,
   "id": "0ba160e0",
   "metadata": {},
   "outputs": [],
   "source": [
    "empty_tuple = () # empty\n",
    "mixed_tuple = (\"Hello\", 42, 3.14, True) # mixed data types\n",
    "coordinate_pair = 10, 20 # implicit createion (without parentheses)\n",
    "data_record = (\"User_ID_99\", [\"Read\", \"Write\"], \"Active\") # containing data structures\n",
    "\n",
    "print(f\"Empty Tuple: {empty_tuple}\")\n",
    "print(f\"Mixed Tuple: {mixed_tuple}\")\n",
    "print(f\"Coordinate Pair (No Parentheses): {coordinate_pair}\")\n",
    "print(f\"Data Record: {data_record}\")"
   ]
  },
  {
   "cell_type": "code",
   "execution_count": null,
   "id": "cb7927c4",
   "metadata": {},
   "outputs": [],
   "source": [
    "correct_tuple = (\"single_item\",) # trailing comma\n",
    "print(f\"Correct: {correct_tuple}, Type: {type(correct_tuple)}\")\n",
    "incorrect_tuple = (\"single_item\") # INCORRECT\n",
    "print(f\"Incorrect: {incorrect_tuple}, Type: {type(incorrect_tuple)}\")\n"
   ]
  },
  {
   "cell_type": "code",
   "execution_count": null,
   "id": "181cb0c7",
   "metadata": {},
   "outputs": [],
   "source": [
    "# Converting a list to a tuple\n",
    "my_list = [10, 20, 30]\n",
    "tuple_from_list = tuple(my_list)\n",
    "print(f\"From List: {tuple_from_list}\")\n",
    "\n",
    "# Converting a string to a tuple (each character becomes an element)\n",
    "my_string = \"Python\"\n",
    "tuple_from_string = tuple(my_string)\n",
    "print(f\"From String: {tuple_from_string}\")\n"
   ]
  },
  {
   "cell_type": "markdown",
   "id": "77dc20fb",
   "metadata": {},
   "source": [
    "## Accessing Elements (Indexing and Slicing)\n",
    "\n",
    "Accessing elements in a tuple works exactly like accessing elements in a list.\n",
    "\n",
    "- Indexing. You can use positive indices (starting from 0) or negative indices (starting from -1 for the last element).\n",
    "- Slicing. Slicing creates a new tuple containing a subset of the original elements. The syntax is [start:stop:step]. Remember, the element at the stop index is excluded.\n",
    "\n"
   ]
  },
  {
   "cell_type": "code",
   "execution_count": null,
   "id": "653fa5d7",
   "metadata": {},
   "outputs": [],
   "source": [
    "planets = (\"Mercury\", \"Venus\", \"Earth\", \"Mars\", \"Jupiter\")\n",
    "\n",
    "# 1. Positive Indexing\n",
    "print(f\"First planet (Index 0): {planets[0]}\")\n",
    "print(f\"Fourth planet (Index 3): {planets[3]}\")\n",
    "\n",
    "# 2. Negative Indexing\n",
    "print(f\"Last planet (Index -1): {planets[-1]}\")\n",
    "print(f\"Second to last planet (Index -2): {planets[-2]}\")\n"
   ]
  },
  {
   "cell_type": "code",
   "execution_count": null,
   "id": "ce4a52be",
   "metadata": {},
   "outputs": [],
   "source": [
    "numbers = (10, 20, 30, 40, 50, 60, 70, 80, 90)\n",
    "\n",
    "# Slice from index 2 up to (but not including) index 5\n",
    "slice1 = numbers[2:5]\n",
    "print(f\"Slice [2:5]: {slice1}\")\n",
    "\n",
    "# Slice from the start up to index 4\n",
    "slice2 = numbers[:4]\n",
    "print(f\"Slice [:4]: {slice2}\")\n",
    "\n",
    "# Slice from index 5 to the end\n",
    "slice3 = numbers[5:]\n",
    "print(f\"Slice [5:]: {slice3}\")\n",
    "\n",
    "# Slice with a step of 2 (every second element)\n",
    "slice4 = numbers[::2]\n",
    "print(f\"Slice [::2]: {slice4}\")"
   ]
  },
  {
   "cell_type": "markdown",
   "id": "74ec745b",
   "metadata": {},
   "source": [
    "## Immutability\n",
    "\n",
    "Tuples cannot be changed once created ❗. This means methods like `append()`, `remove()`, or direct assignment to an index `my_tuple[1] = ...` are not available and will result in an error which is a TypeError\n",
    "\n",
    "### Note\n",
    "You can modify the mutable object itself. That is, you can use the `[]` to access the value and then change it as demonstrated below.\n",
    "\n",
    "```python\n",
    "my_tuple = (['msane', 'brian'], 77)\n",
    "my_tuple[0].append('thandokuhle')\n",
    "```\n",
    "\n",
    "Here, we define a tuple called `my_tuple` and then give it two elements which are of data types list, and integer, respectively. Since we know that lists are mutable and we know that we can use the subscript operator `[]` to get specific values from a tuple, we can then access the list which contains **'msane' and 'brian'** and then append my first name **'thandokuhle'**. 😂\n",
    "\n",
    "Because tuples are immutable, they have very few methods—only two! Both methods are used for querying information about the tuple's elements.\n",
    "\n",
    "- `count(value)`. Returns the number of times a specified value occurs in the tuple.\n",
    "- `index(value)`. Returns the index of the first occurrence of a specified value. If the value is not found, it raises a ValueError."
   ]
  },
  {
   "cell_type": "code",
   "execution_count": 2,
   "id": "1a08f0c8",
   "metadata": {},
   "outputs": [
    {
     "name": "stdout",
     "output_type": "stream",
     "text": [
      "1\n",
      "2\n"
     ]
    }
   ],
   "source": [
    "my_tuple = (['msane', 'brian'], 77, 'ronaldo')\n",
    "my_tuple[0].append('thandokuhle')\n",
    "\n",
    "print(my_tuple.count(77))\n",
    "print(my_tuple.index('ronaldo'))"
   ]
  },
  {
   "cell_type": "markdown",
   "id": "e9212a45",
   "metadata": {},
   "source": [
    "##  Tuple Unpacking\n",
    "Tuple unpacking allows you to assign each element of a tuple to a sequence of variables in a single line.\n",
    "\n",
    " - Basic Unpacking. The number of variables on the left must exactly match the number of elements in the tuple.\n",
    " - Using the Asterisk * (Star Unpacking). If the number of elements is unknown or variable, you can use the asterisk * to gather the remaining elements into a list"
   ]
  },
  {
   "cell_type": "code",
   "execution_count": null,
   "id": "60e16614",
   "metadata": {},
   "outputs": [],
   "source": [
    "user = (\"Jane Doe\", \"janedoe@example.com\", 35)\n",
    "\n",
    "# Unpacking the tuple into three separate variables\n",
    "name, email, age = user\n",
    "\n",
    "print(f\"Name: {name}\")\n",
    "print(f\"Email: {email}\")\n",
    "print(f\"Age: {age}\")\n"
   ]
  },
  {
   "cell_type": "code",
   "execution_count": null,
   "id": "a7e1ef67",
   "metadata": {},
   "outputs": [],
   "source": [
    "# A flight itinerary with the first destination, the last, and several layovers\n",
    "itinerary = (\"London\", \"Paris\", \"Berlin\", \"Rome\", \"Tokyo\")\n",
    "\n",
    "# Assign first, last, and gather everything in between into 'layovers'\n",
    "first, *layovers, last = itinerary\n",
    "\n",
    "print(f\"First Destination: {first}\")\n",
    "# Note: 'layovers' is always a list, even if it contains one or zero elements\n",
    "print(f\"Layovers (List): {layovers}\")\n",
    "print(f\"Final Destination: {last}\")"
   ]
  }
 ],
 "metadata": {
  "kernelspec": {
   "display_name": "python-backend-developer-roadmap (3.12.2)",
   "language": "python",
   "name": "python3"
  },
  "language_info": {
   "codemirror_mode": {
    "name": "ipython",
    "version": 3
   },
   "file_extension": ".py",
   "mimetype": "text/x-python",
   "name": "python",
   "nbconvert_exporter": "python",
   "pygments_lexer": "ipython3",
   "version": "3.12.2"
  }
 },
 "nbformat": 4,
 "nbformat_minor": 5
}
