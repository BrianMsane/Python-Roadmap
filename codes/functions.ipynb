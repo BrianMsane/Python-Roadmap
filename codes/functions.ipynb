{
 "cells": [
  {
   "cell_type": "markdown",
   "id": "d6470b73",
   "metadata": {},
   "source": [
    "# Function\n",
    "\n",
    "We have noticed how **looping or control structures** can help us _run multiple lines of code for a specified number of times or until a condition is met_. At the same time, loops alleviate the need for writing the same statements multiple times which makes the code easy to ready and convenient. We can also use functions to group some statements which perform a certain operation together. These statements, when grouped, can then be re-used multiple times depending on the need. This help us because repeating statemetns multiple times makes it hard to read, maintain, and debug.\n",
    "\n",
    "In Python we have two types of functions which are:\n",
    " - **Built-in functions**. These are the functions which come pre-defined with Python such as `print()`, `input()` and so on. You basically do not write their code yourself. All you do is read about how the function is used and pass the important arguments to use them.\n",
    " - **User-defined functions**. These are the kinds of functions which do not come built-in Python but the user define them based on his need. For instance, if I want functionality which will diagnose patients if they are infected with Tuberculosis or not I can define a function for that. To define these functions you use the `def` keyword. This will be demonstrated below."
   ]
  },
  {
   "cell_type": "markdown",
   "id": "0e83b678",
   "metadata": {},
   "source": [
    "## User-defined Functions\n",
    "\n",
    "In Python, you define a function using the `def` keyword, followed by the **function's name**, a pair of **parentheses ()**, and a **colon :**. The actual code that the function will execute is placed in an _indented block_.. This indentation is mandatory and indicates the function's body. The `def` keyword signals the start of a functions definition. The function name should follow the rules for naming variables defined in the [basis notebook](./basics.ipynb)\n",
    "\n",
    "Syntax\n",
    "\n",
    "```python\n",
    "def func_name():\n",
    "    # statements to be run by the function\n",
    "```"
   ]
  },
  {
   "cell_type": "code",
   "execution_count": null,
   "id": "9134831a",
   "metadata": {},
   "outputs": [],
   "source": [
    "def greet():\n",
    "    print(\"Hi there, how are you doing?\")"
   ]
  },
  {
   "cell_type": "markdown",
   "id": "bce70b23",
   "metadata": {},
   "source": [
    "Notice that as soon as I run the cell above, the code runs but the message _Hi there, how are you doing?_ does not get executed. This is because in Python we have two important things to know about functions namely, function definition and function call.\n",
    "\n",
    "When we use the `def` statement we basically define the function or the statement(s) and name associated with the function. When we run the code at this point we're simply letting the interpreter know that there is such a function, therefore, the statements are no run. To execute the code inside the function body, you need to call the function. You call a function by using its name followed by parentheses."
   ]
  },
  {
   "cell_type": "code",
   "execution_count": 2,
   "id": "d8a0f2f9",
   "metadata": {},
   "outputs": [
    {
     "name": "stdout",
     "output_type": "stream",
     "text": [
      "Hi there, how are you doing\n"
     ]
    }
   ],
   "source": [
    "greet()"
   ]
  },
  {
   "cell_type": "markdown",
   "id": "b2c9a903",
   "metadata": {},
   "source": [
    "To demonstrate that functions are re-usable, let's call the greet function a couple of times and see the output. Basically here, when we call the greet function 4 times we are going to get the result printed 4 times."
   ]
  },
  {
   "cell_type": "code",
   "execution_count": 3,
   "id": "e8958b06",
   "metadata": {},
   "outputs": [
    {
     "name": "stdout",
     "output_type": "stream",
     "text": [
      "Hi there, how are you doing\n",
      "Hi there, how are you doing\n",
      "Hi there, how are you doing\n",
      "Hi there, how are you doing\n"
     ]
    }
   ],
   "source": [
    "greet()\n",
    "greet()\n",
    "greet()\n",
    "greet()"
   ]
  },
  {
   "cell_type": "markdown",
   "id": "337a5883",
   "metadata": {},
   "source": [
    "## Arugements and Parameters\n",
    "\n",
    "Functions become truly powerful when information can be passed into them. Imagine a function that greets a user; it needs to know the user's name. As shown in the code cell below, we call the function and give it **Brian** and then give it **Thandokuhle**, these are the data sent to the function. \n",
    "\n",
    "In general, you can have many of then and they can be separeted using commas. When you call the function, you provide the corresponding arguments in the same order. This is called using positional arguments because the position determines which parameter receives which argument. They are listed within the parentheses as shown in the syntax below.\n",
    "\n",
    "Syntax\n",
    "\n",
    "```python\n",
    "def func_name(data1, data2, date2, ...):\n",
    "    # block of code\n",
    "    # ensure to use the data passes, otherwise what's the use 😂\n",
    "```\n",
    "\n",
    "At different stages these data are called **parameters** or **arguments**.\n",
    "- Parameters: These are the names listed inside the parentheses in the function definition. Think of them as _placeholders_ or variables that will receive values when the function is called.\n",
    "- Arguments: These are the actual values that you pass to the function when you call it. These values are assigned to the corresponding parameters.\n",
    "\n",
    "So, in the example below, `name` is a parameter and `\"Brian\"` is an argument. What happens is that when you call the function the occurrence of a parameter will be replace by the argument corresponding to its"
   ]
  },
  {
   "cell_type": "code",
   "execution_count": null,
   "id": "9a09911e",
   "metadata": {},
   "outputs": [
    {
     "name": "stdout",
     "output_type": "stream",
     "text": [
      "Hey Brian, how are you doing?\n",
      "Hey Thandokuhle, how are you doing?\n"
     ]
    }
   ],
   "source": [
    "def greet(name):\n",
    "    print(f'Hey {name}, how are you doing?')\n",
    "\n",
    "greet(name='Brian')\n",
    "greet(\"Thandokuhle\")"
   ]
  }
 ],
 "metadata": {
  "kernelspec": {
   "display_name": "python-backend-developer-roadmap (3.12.2)",
   "language": "python",
   "name": "python3"
  },
  "language_info": {
   "codemirror_mode": {
    "name": "ipython",
    "version": 3
   },
   "file_extension": ".py",
   "mimetype": "text/x-python",
   "name": "python",
   "nbconvert_exporter": "python",
   "pygments_lexer": "ipython3",
   "version": "3.12.2"
  }
 },
 "nbformat": 4,
 "nbformat_minor": 5
}
