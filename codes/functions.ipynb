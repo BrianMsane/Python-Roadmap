{
 "cells": [
  {
   "cell_type": "markdown",
   "id": "d6470b73",
   "metadata": {},
   "source": [
    "# Function\n",
    "\n",
    "We have noticed how **looping or control structures** can help us _run multiple lines of code for a specified number of times or until a condition is met_. At the same time, loops alleviate the need for writing the same statements multiple times which makes the code easy to ready and convenient. We can also use functions to group some statements which perform a certain operation together. These statements, when grouped, can then be re-used multiple times depending on the need. This help us because repeating statemetns multiple times makes it hard to read, maintain, and debug.\n",
    "\n",
    "In Python we have two types of functions which are:\n",
    " - **Built-in functions**. These are the functions which come pre-defined with Python such as `print()`, `input()` and so on. You basically do not write their code yourself. All you do is read about how the function is used and pass the important arguments to use them.\n",
    " - **User-defined functions**. These are the kinds of functions which do not come built-in Python but the user define them based on his need. For instance, if I want functionality which will diagnose patients if they are infected with Tuberculosis or not I can define a function for that. To define these functions you use the `def` keyword. This will be demonstrated below."
   ]
  },
  {
   "cell_type": "markdown",
   "id": "ab2c0d85",
   "metadata": {},
   "source": [
    "## Built-in Functions 💫\n",
    "\n",
    "These are the functions which comes with Python when you install it and typical examples include `print()`, `input()`, `dir()`, and many more. In this section, we will briefly review some of the most commonly used ones. We have been using `print()` for quite some time in this series without knowing what it is (_its a built-in function_) but only what it does 😂.\n",
    "\n",
    "- `input()` is used for getting input from the user. For instance, you might want to get the user's age or name into the program so that you compute specific operations. **By default, the it function takes the input to be the string data type**. _To convert it between data types you can use the following constructors_.\n",
    "    - `int()` to convert the input into an integer\n",
    "    - `float()` to convert the input into a floating point number\n",
    "    - `bool()` to convert the input into a Boolean type\n",
    " When you use the input() function, you might want to specify a prompt which informs the user of the specific information they have to provide. For instance, when you want the user to provide his age you could say, `'What is your age?'`. This is done by providing a string within the parenthesis of the `input()` function.\n",
    "- `dir()` is used to list all the attributes and methods of an _object_. The object can be of any type as long as it is _Pythonic_. This operation is essential when you want to use the object and you are trying to figure out what you can do with the object.\n",
    "- `type()` is used for getting the data type of a Python object such as a variable, class instance, and many more. It can be used to confirm the data type of the object. Similarly, in a program you can use functions like `isinstance()` to confirm if a Python object is of a particular data type or not."
   ]
  },
  {
   "cell_type": "code",
   "execution_count": 1,
   "id": "47ee63ad",
   "metadata": {},
   "outputs": [
    {
     "data": {
      "text/plain": [
       "['__add__',\n",
       " '__class__',\n",
       " '__contains__',\n",
       " '__delattr__',\n",
       " '__dir__',\n",
       " '__doc__',\n",
       " '__eq__',\n",
       " '__format__',\n",
       " '__ge__',\n",
       " '__getattribute__',\n",
       " '__getitem__',\n",
       " '__getnewargs__',\n",
       " '__getstate__',\n",
       " '__gt__',\n",
       " '__hash__',\n",
       " '__init__',\n",
       " '__init_subclass__',\n",
       " '__iter__',\n",
       " '__le__',\n",
       " '__len__',\n",
       " '__lt__',\n",
       " '__mod__',\n",
       " '__mul__',\n",
       " '__ne__',\n",
       " '__new__',\n",
       " '__reduce__',\n",
       " '__reduce_ex__',\n",
       " '__repr__',\n",
       " '__rmod__',\n",
       " '__rmul__',\n",
       " '__setattr__',\n",
       " '__sizeof__',\n",
       " '__str__',\n",
       " '__subclasshook__',\n",
       " 'capitalize',\n",
       " 'casefold',\n",
       " 'center',\n",
       " 'count',\n",
       " 'encode',\n",
       " 'endswith',\n",
       " 'expandtabs',\n",
       " 'find',\n",
       " 'format',\n",
       " 'format_map',\n",
       " 'index',\n",
       " 'isalnum',\n",
       " 'isalpha',\n",
       " 'isascii',\n",
       " 'isdecimal',\n",
       " 'isdigit',\n",
       " 'isidentifier',\n",
       " 'islower',\n",
       " 'isnumeric',\n",
       " 'isprintable',\n",
       " 'isspace',\n",
       " 'istitle',\n",
       " 'isupper',\n",
       " 'join',\n",
       " 'ljust',\n",
       " 'lower',\n",
       " 'lstrip',\n",
       " 'maketrans',\n",
       " 'partition',\n",
       " 'removeprefix',\n",
       " 'removesuffix',\n",
       " 'replace',\n",
       " 'rfind',\n",
       " 'rindex',\n",
       " 'rjust',\n",
       " 'rpartition',\n",
       " 'rsplit',\n",
       " 'rstrip',\n",
       " 'split',\n",
       " 'splitlines',\n",
       " 'startswith',\n",
       " 'strip',\n",
       " 'swapcase',\n",
       " 'title',\n",
       " 'translate',\n",
       " 'upper',\n",
       " 'zfill']"
      ]
     },
     "execution_count": 1,
     "metadata": {},
     "output_type": "execute_result"
    }
   ],
   "source": [
    "name = 'str'\n",
    "dir(name)"
   ]
  },
  {
   "cell_type": "code",
   "execution_count": 2,
   "id": "be8ae0b9",
   "metadata": {},
   "outputs": [
    {
     "name": "stdout",
     "output_type": "stream",
     "text": [
      "<class 'str'> Thandokuhle\n",
      "<class 'int'> 23\n",
      "<class 'float'> 1.73\n",
      "<class 'bool'> True\n"
     ]
    }
   ],
   "source": [
    "name = input('What is your name')\n",
    "age = int(input('How old are you? '))\n",
    "height = float(input(\"What is your height in cm? \"))\n",
    "smart = bool(input('Are you smart? '))\n",
    "\n",
    "print(type(name), name)\n",
    "print(type(age), age)\n",
    "print(type(height), height)\n",
    "print(type(smart), smart)"
   ]
  },
  {
   "cell_type": "markdown",
   "id": "0e83b678",
   "metadata": {},
   "source": [
    "## User-defined Functions\n",
    "\n",
    "In Python, you define a function using the `def` keyword, followed by the **function's name**, a pair of **parentheses ()**, and a **colon :**. The actual code that the function will execute is placed in an _indented block_.. This indentation is mandatory and indicates the function's body. The `def` keyword signals the start of a functions definition. The function name should follow the rules for naming variables defined in the [basis notebook](./basics.ipynb)\n",
    "\n",
    "Syntax\n",
    "\n",
    "```python\n",
    "def func_name():\n",
    "    # statements to be run by the function\n",
    "```"
   ]
  },
  {
   "cell_type": "code",
   "execution_count": null,
   "id": "9134831a",
   "metadata": {},
   "outputs": [],
   "source": [
    "def greet():\n",
    "    print(\"Hi there, how are you doing?\")"
   ]
  },
  {
   "cell_type": "markdown",
   "id": "bce70b23",
   "metadata": {},
   "source": [
    "Notice that as soon as I run the cell above, the code runs but the message _Hi there, how are you doing?_ does not get executed. This is because in Python we have two important things to know about functions namely, function definition and function call.\n",
    "\n",
    "When we use the `def` statement we basically define the function or the statement(s) and name associated with the function. When we run the code at this point we're simply letting the interpreter know that there is such a function, therefore, the statements are no run. To execute the code inside the function body, you need to call the function. You call a function by using its name followed by parentheses."
   ]
  },
  {
   "cell_type": "code",
   "execution_count": 2,
   "id": "d8a0f2f9",
   "metadata": {},
   "outputs": [
    {
     "name": "stdout",
     "output_type": "stream",
     "text": [
      "Hi there, how are you doing\n"
     ]
    }
   ],
   "source": [
    "greet()"
   ]
  },
  {
   "cell_type": "markdown",
   "id": "b2c9a903",
   "metadata": {},
   "source": [
    "To demonstrate that functions are re-usable, let's call the greet function a couple of times and see the output. Basically here, when we call the greet function 4 times we are going to get the result printed 4 times."
   ]
  },
  {
   "cell_type": "code",
   "execution_count": 3,
   "id": "e8958b06",
   "metadata": {},
   "outputs": [
    {
     "name": "stdout",
     "output_type": "stream",
     "text": [
      "Hi there, how are you doing\n",
      "Hi there, how are you doing\n",
      "Hi there, how are you doing\n",
      "Hi there, how are you doing\n"
     ]
    }
   ],
   "source": [
    "greet()\n",
    "greet()\n",
    "greet()\n",
    "greet()"
   ]
  },
  {
   "cell_type": "markdown",
   "id": "337a5883",
   "metadata": {},
   "source": [
    "## Aruguments and Parameters\n",
    "\n",
    "Functions become truly powerful when information can be passed into them. Imagine a function that greets a user; it needs to know the user's name. As shown in the code cell below, we call the function and give it **Brian** and then give it **Thandokuhle**, these are the data sent to the function. \n",
    "\n",
    "In general, you can have many of then and they can be separeted using commas. When you call the function, you provide the corresponding arguments in the same order. This is called using positional arguments because the position determines which parameter receives which argument. They are listed within the parentheses as shown in the syntax below.\n",
    "\n",
    "Syntax\n",
    "\n",
    "```python\n",
    "#  function definition\n",
    "def func_name(data1, data2, date2, ...):\n",
    "    # block of code\n",
    "    # ensure to use the data passes, otherwise what's the use 😂\n",
    "```\n",
    "\n",
    "At different stages these data are called **parameters** or **arguments**.\n",
    "- Parameters: These are the names listed inside the parentheses in the function definition. Think of them as _placeholders_ or variables that will receive values when the function is called.\n",
    "- Arguments: These are the actual values that you pass to the function when you call it. These values are assigned to the corresponding parameters.\n",
    "\n",
    "So, in the example below, `name` is a parameter and `\"Brian\"` is an argument. What happens is that when you call the function the occurrence of a parameter will be replace by the argument corresponding to its"
   ]
  },
  {
   "cell_type": "code",
   "execution_count": null,
   "id": "9a09911e",
   "metadata": {},
   "outputs": [
    {
     "name": "stdout",
     "output_type": "stream",
     "text": [
      "Hey Brian, how are you doing?\n",
      "Hey Thandokuhle, how are you doing?\n"
     ]
    }
   ],
   "source": [
    "def greet(name):\n",
    "    print(f'Hey {name}, how are you doing?')\n",
    "\n",
    "greet(name='Brian')\n",
    "greet(\"Thandokuhle\")"
   ]
  }
 ],
 "metadata": {
  "kernelspec": {
   "display_name": "python-backend-developer-roadmap (3.12.2)",
   "language": "python",
   "name": "python3"
  },
  "language_info": {
   "codemirror_mode": {
    "name": "ipython",
    "version": 3
   },
   "file_extension": ".py",
   "mimetype": "text/x-python",
   "name": "python",
   "nbconvert_exporter": "python",
   "pygments_lexer": "ipython3",
   "version": "3.12.2"
  }
 },
 "nbformat": 4,
 "nbformat_minor": 5
}
